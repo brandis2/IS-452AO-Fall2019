{
 "cells": [
  {
   "cell_type": "markdown",
   "metadata": {},
   "source": [
    "# Summer 2018 Status: REVIEWED AND UPDATED\n",
    "Admin Items for me to go over: \n",
    "\n",
    "1. Midterms!\n",
    "1. Grading\n",
    "1. Catastrophe Avoidance Trap Initative or the CAT Initative\n",
    "1. Office Hours - The population numbers.\n",
    "1. Outside of Class Meeting\n",
    "1. Overview of Data Types!\n",
    "---------"
   ]
  },
  {
   "cell_type": "markdown",
   "metadata": {},
   "source": [
    "## Dictionaries \n",
    "\n",
    "### But first, what data types do we know about?\n",
    "By this point, we have dealt with a number of different data types. Let's review them: \n",
    "\n",
    "| Data Type|Description and how to recognize|How can we use these items?| Mutable? |\n",
    "|:---|:---:|:---:|:---:|\n",
    "| **integer / float**      | These are numbers and decimals. They can only be represented (most of the time) by 0-9. |  They allow you to do things associated with counting/mathematics | NO|\n",
    "| **string**      | A list of characters (a-z, A-Z, A-z, 0-9, special characters, etc). Noted by ' and ''' depending on their need.  | We can use them for all sorts of reasons and in innumerable ways.   | NO\n",
    "| **list** | Noted by `[]` and these are a collection of values (integers/strings, for example) and are separated by a comma.       | Lists can be used in FOR Loops to do a number of things. Get your content into a list and tons of stuff can be done with it     | YES|\n",
    "| **Bool** | This datatype is basically 1 of 2 values: True or False| Works as a way to conditionally deal with a for loop through IF statements. e.g. IF X is TRUE, DO THIS   | NO| \n",
    "| **Tuple** | Tuples are a group of values like a list and are manipulated in similar ways. But, tuples are fixed in size once they are assigned.  | These are not changable once they are created so useful when \"order and position\" are necessary | NO |\n",
    "|**NEW! Dictionary** | These are lists that hold KEY (think header row of a datasheet) and values(everything below the header). Noted by the use of {} brackets.  | You can use these when you have a row of a list that maps to the other data in the list. | YES | \n",
    "\n",
    "----------\n",
    "\n",
    "#### Mutation, Mutability, Unable to Mutate, Changes, and..what the what?\n",
    "What is that column called *MUTABLE*? Well, this is something important to consider. Different types of data are mutatable or to use a simpler phrase, \"a mutable object can change its state or contents and immutable objects cannot.\"\n",
    "\n",
    "Note that when you're doing Python, you don't actually change the existing string. For example, when you read Dracula into memory, it'll be there for forever in that state. You can then do something to that immutable object but in doing that, you create a new object. Another way to refer to this is that you use commands to alter a string. But the string does not change. It instead becomes a new variable. \n",
    "\n",
    "Note that last line about dictionaries. Dictionaries are mutable. This means you can change their content!\n",
    "\n",
    "What is a dictionary? Well i'm glad you asked!\n",
    "\n",
    "## What are Dictionaries?\n",
    "\n",
    "Dictionaries are like lists in that they hold collections of data.  However, as we discussed with the for and while loops, they have fundamentallf different purposes and so they act in very different ways.  Don't try to understand dictionaries like you understand lists.  Yes, they each hold things, but that's where similarites stop.\n",
    "\n",
    "Think of a dictionary as a small database.  It has two pieces:  unique IDs (keys), and associated records (values).  We call these keys and values.  \n",
    "\n",
    "### Think of an apartment building\n",
    "\n",
    "Your apartment has a unique address.  First off, the street address tells you which unique buildng you want to find.  There may be several identical buildings, but each has a unique address.\n",
    "\n",
    "Inside that apartment building there are unit IDs.  These may be letters (A, B, etc), labels (Garden, Penthouse, etc), or numbers (6, 303. etc).  Many apartment buildings share the same numbering systems, and this is fine because that apartment belongs to that building.  So the unique combination of street address and unit number can uniquly identify a unit in the same city.\n",
    "\n",
    "Inside these units you can hold whatever you want.  Usually household goods, food, pets, collectables, human bodies, etc.  The idea is that in order to access this unit, you must go into a building and enter a specific ID.  The IDs in that unit must be unique.  \n",
    "\n",
    "You also have to access things in order.  So you can't just directly go into an apartment number.  Even if that apartment door is outside, you still have to find the building.  Imagine saying, \"Hi, I live in New York City and I likein apartment 3.  The party will be at 8pm.\"  Will anyone be at your party?  Not so much.\n",
    "\n",
    "In this analogy, the building is our dictionary.  The street address is our variable name, and the unit number is our key.  You use the key with the variable name to access the contents of that unit.\n",
    "\n",
    "That's pretty much it."
   ]
  },
  {
   "cell_type": "code",
   "execution_count": 1,
   "metadata": {},
   "outputs": [],
   "source": [
    "mybuilding = {1: ['cat', 'adult human', 'adult human',\n",
    "                  'human child', 'rosy boa', \"Dumeril's boa\"],\n",
    "              2: ['adult human'],\n",
    "              3: ['adult human', 'adult human', 'human child', 'dog?']}"
   ]
  },
  {
   "cell_type": "markdown",
   "metadata": {},
   "source": [
    "If I'm using this to represent my apartment, there are 3 units:  `1`, `2`, and `3`.  Each of these unit labels is actually my key.  See the : in there after each key?  That is separating the key and the value, and the order does matter.  It is always `key: value`.  Meanwhile, each of my values is a list that contains strings of the occupants.\n",
    "\n",
    "As we start covering syntax, I suggest that you write them down or make a small cheat sheet for yourself.  You'll likely want to look it up each time you want to use it until you learn them by heart.\n",
    "\n",
    "# Common patterns that you will want to look up constantly\n",
    "\n",
    "## Accessing values with a key\n",
    "\n",
    "Here's how we can look up the contents:  `dictvariable[key]`"
   ]
  },
  {
   "cell_type": "code",
   "execution_count": 2,
   "metadata": {},
   "outputs": [
    {
     "name": "stdout",
     "output_type": "stream",
     "text": [
      "['cat', 'adult human', 'adult human', 'human child', 'rosy boa', \"Dumeril's boa\"]\n"
     ]
    }
   ],
   "source": [
    "print(mybuilding[1])"
   ]
  },
  {
   "cell_type": "code",
   "execution_count": 3,
   "metadata": {},
   "outputs": [
    {
     "name": "stdout",
     "output_type": "stream",
     "text": [
      "['adult human']\n"
     ]
    }
   ],
   "source": [
    "print(mybuilding[2])"
   ]
  },
  {
   "cell_type": "code",
   "execution_count": 4,
   "metadata": {},
   "outputs": [
    {
     "name": "stdout",
     "output_type": "stream",
     "text": [
      "['adult human', 'adult human', 'human child', 'dog?']\n"
     ]
    }
   ],
   "source": [
    "print(mybuilding[3])"
   ]
  },
  {
   "cell_type": "markdown",
   "metadata": {},
   "source": [
    "And if I try to look up a key that isn't in there?  I get a key error."
   ]
  },
  {
   "cell_type": "code",
   "execution_count": 5,
   "metadata": {
    "scrolled": false
   },
   "outputs": [
    {
     "ename": "KeyError",
     "evalue": "4",
     "output_type": "error",
     "traceback": [
      "\u001b[1;31m---------------------------------------------------------------------------\u001b[0m",
      "\u001b[1;31mKeyError\u001b[0m                                  Traceback (most recent call last)",
      "\u001b[1;32m<ipython-input-5-c8ce1a703a0a>\u001b[0m in \u001b[0;36m<module>\u001b[1;34m()\u001b[0m\n\u001b[1;32m----> 1\u001b[1;33m \u001b[0mprint\u001b[0m\u001b[1;33m(\u001b[0m\u001b[0mmybuilding\u001b[0m\u001b[1;33m[\u001b[0m\u001b[1;36m4\u001b[0m\u001b[1;33m]\u001b[0m\u001b[1;33m)\u001b[0m\u001b[1;33m\u001b[0m\u001b[0m\n\u001b[0m",
      "\u001b[1;31mKeyError\u001b[0m: 4"
     ]
    }
   ],
   "source": [
    "print(mybuilding[4])"
   ]
  },
  {
   "cell_type": "markdown",
   "metadata": {},
   "source": [
    "Something to note is that these keys and values can be of any data type, and you can have a combination of them in the same dictionary.  You just need to match how that data type is actually typed in.  Don't forget the quotes if you have a string!"
   ]
  },
  {
   "cell_type": "code",
   "execution_count": 6,
   "metadata": {},
   "outputs": [],
   "source": [
    "anotherbuilding = {'Garden': ['Adult human'],\n",
    "                    2: ['Adult human', 'Adult human', 'cat']}"
   ]
  },
  {
   "cell_type": "markdown",
   "metadata": {},
   "source": [
    "## Adding a new key/value pair\n",
    "\n",
    "Say that I leart more about my neighbors and I want to add more things in.  I can add garages as well.\n",
    "\n",
    "The syntax for adding a key/value looks like an assignment statement extending our lookup syntax.\n",
    "\n",
    "`dictvariable[new_key] = new_value`\n",
    "\n",
    "So you place the new key that you want to add in the `[]` and whatever the value is after the `=`."
   ]
  },
  {
   "cell_type": "code",
   "execution_count": 7,
   "metadata": {},
   "outputs": [],
   "source": [
    "mybuilding['garage 1'] = ['car', 'innumerable crap']"
   ]
  },
  {
   "cell_type": "code",
   "execution_count": 8,
   "metadata": {},
   "outputs": [
    {
     "name": "stdout",
     "output_type": "stream",
     "text": [
      "{1: ['cat', 'adult human', 'adult human', 'human child', 'rosy boa', \"Dumeril's boa\"], 2: ['adult human'], 3: ['adult human', 'adult human', 'human child', 'dog?'], 'garage 1': ['car', 'innumerable crap']}\n"
     ]
    }
   ],
   "source": [
    "print(mybuilding)"
   ]
  },
  {
   "cell_type": "markdown",
   "metadata": {},
   "source": [
    "Take a closer look at that syntax.  It has the `[]` with the new key on the left side of the `=` statement and only 1 `=`.  So I don't need to completely reassign my dictionary to change it.\n",
    "\n",
    "## Changing the value with a given key\n",
    "\n",
    "Warning!  This syntax is also shared for the reassignment.  If you reuse a key that is in the dictionary, it will overwrite that value without warning."
   ]
  },
  {
   "cell_type": "code",
   "execution_count": 9,
   "metadata": {},
   "outputs": [],
   "source": [
    "mybuilding['garage 1'] = ['car', 'bike', 'bike', 'innumerable crap']"
   ]
  },
  {
   "cell_type": "code",
   "execution_count": 10,
   "metadata": {},
   "outputs": [
    {
     "name": "stdout",
     "output_type": "stream",
     "text": [
      "{1: ['cat', 'adult human', 'adult human', 'human child', 'rosy boa', \"Dumeril's boa\"], 2: ['adult human'], 3: ['adult human', 'adult human', 'human child', 'dog?'], 'garage 1': ['car', 'bike', 'bike', 'innumerable crap']}\n"
     ]
    }
   ],
   "source": [
    "print(mybuilding)"
   ]
  },
  {
   "cell_type": "markdown",
   "metadata": {},
   "source": [
    "Alternatively, since our value for each key is in fact a mutator, we can directly reference that object using our access syntax and alter it.\n",
    "\n",
    "Say that the person in apartment 2 has a baby and I want to add that to their record.  Since the data type of that value is a list, I can call .append() to that lookup statement."
   ]
  },
  {
   "cell_type": "code",
   "execution_count": 11,
   "metadata": {},
   "outputs": [],
   "source": [
    "mybuilding[2].append('human child')"
   ]
  },
  {
   "cell_type": "code",
   "execution_count": 12,
   "metadata": {},
   "outputs": [
    {
     "name": "stdout",
     "output_type": "stream",
     "text": [
      "{1: ['cat', 'adult human', 'adult human', 'human child', 'rosy boa', \"Dumeril's boa\"], 2: ['adult human', 'human child'], 3: ['adult human', 'adult human', 'human child', 'dog?'], 'garage 1': ['car', 'bike', 'bike', 'innumerable crap']}\n"
     ]
    }
   ],
   "source": [
    "print(mybuilding)"
   ]
  },
  {
   "cell_type": "markdown",
   "metadata": {},
   "source": [
    "## checking to see if a key is in there\n",
    "\n",
    "You'll often be looping over some data and building up a dictionary in the process.  Oftentimes you'll want to handle things defferently if that key is not already in the dictionary.  For example, let's say I want to add some new people to a unit not already in my dictionary."
   ]
  },
  {
   "cell_type": "code",
   "execution_count": 13,
   "metadata": {},
   "outputs": [
    {
     "ename": "KeyError",
     "evalue": "5",
     "output_type": "error",
     "traceback": [
      "\u001b[1;31m---------------------------------------------------------------------------\u001b[0m",
      "\u001b[1;31mKeyError\u001b[0m                                  Traceback (most recent call last)",
      "\u001b[1;32m<ipython-input-13-808ed883628b>\u001b[0m in \u001b[0;36m<module>\u001b[1;34m()\u001b[0m\n\u001b[1;32m----> 1\u001b[1;33m \u001b[0mmybuilding\u001b[0m\u001b[1;33m[\u001b[0m\u001b[1;36m5\u001b[0m\u001b[1;33m]\u001b[0m\u001b[1;33m.\u001b[0m\u001b[0mappend\u001b[0m\u001b[1;33m(\u001b[0m\u001b[1;34m'adult human'\u001b[0m\u001b[1;33m)\u001b[0m\u001b[1;33m\u001b[0m\u001b[0m\n\u001b[0m",
      "\u001b[1;31mKeyError\u001b[0m: 5"
     ]
    }
   ],
   "source": [
    "mybuilding[5].append('adult human')"
   ]
  },
  {
   "cell_type": "markdown",
   "metadata": {},
   "source": [
    "We can check this with the `in` keyword that we've seen elsewhere.  This will create a boolean expression that will return `True` if the key does exist in that dictionary, and `False` if it doesn't."
   ]
  },
  {
   "cell_type": "code",
   "execution_count": 14,
   "metadata": {},
   "outputs": [
    {
     "data": {
      "text/plain": [
       "False"
      ]
     },
     "execution_count": 14,
     "metadata": {},
     "output_type": "execute_result"
    }
   ],
   "source": [
    "5 in mybuilding"
   ]
  },
  {
   "cell_type": "markdown",
   "metadata": {},
   "source": [
    "I can't append something to a key that doesn't already exist, but if I use my assignment statement I'll destroy the data I already have in there.  Here's a fragment showing how we might handle such a situation."
   ]
  },
  {
   "cell_type": "code",
   "execution_count": 15,
   "metadata": {},
   "outputs": [],
   "source": [
    "new_member = 'adult human'\n",
    "key = 5\n",
    "\n",
    "if key in mybuilding:\n",
    "    mybuilding[key].append()\n",
    "else:\n",
    "    mybuilding[key] = [new_member]"
   ]
  },
  {
   "cell_type": "code",
   "execution_count": 16,
   "metadata": {},
   "outputs": [
    {
     "name": "stdout",
     "output_type": "stream",
     "text": [
      "{1: ['cat', 'adult human', 'adult human', 'human child', 'rosy boa', \"Dumeril's boa\"], 2: ['adult human', 'human child'], 3: ['adult human', 'adult human', 'human child', 'dog?'], 'garage 1': ['car', 'bike', 'bike', 'innumerable crap'], 5: ['adult human']}\n"
     ]
    }
   ],
   "source": [
    "print(mybuilding)"
   ]
  },
  {
   "cell_type": "markdown",
   "metadata": {},
   "source": [
    "This is an incredibly common pattern.  You'll also notice that I can reference my key as a variable.  Hint hint, this means you can loop over a set of keys and access the values in turn."
   ]
  },
  {
   "cell_type": "markdown",
   "metadata": {},
   "source": [
    "## Getting the keys and values out separately\n",
    "\n",
    "There are several helpful dictionary methods to use.\n",
    "\n",
    "Warning!  Dictionaries have no actual order.  The following methods will give you lists, which have order, but that order should not be depended on.\n",
    "\n",
    "`mydict.keys()` will give you the keys and `mydict.values()` will give you the values."
   ]
  },
  {
   "cell_type": "code",
   "execution_count": 17,
   "metadata": {},
   "outputs": [
    {
     "name": "stdout",
     "output_type": "stream",
     "text": [
      "[1, 2, 3, 'garage 1', 5]\n"
     ]
    }
   ],
   "source": [
    "print(list(mybuilding.keys()))"
   ]
  },
  {
   "cell_type": "code",
   "execution_count": 18,
   "metadata": {},
   "outputs": [
    {
     "name": "stdout",
     "output_type": "stream",
     "text": [
      "[['cat', 'adult human', 'adult human', 'human child', 'rosy boa', \"Dumeril's boa\"], ['adult human', 'human child'], ['adult human', 'adult human', 'human child', 'dog?'], ['car', 'bike', 'bike', 'innumerable crap'], ['adult human']]\n"
     ]
    }
   ],
   "source": [
    "print(list(mybuilding.values()))"
   ]
  },
  {
   "cell_type": "markdown",
   "metadata": {},
   "source": [
    "I know they may look like they are in order, but you shouldn't depend on that."
   ]
  },
  {
   "cell_type": "markdown",
   "metadata": {},
   "source": [
    "## getting the keys and values out together\n",
    "\n",
    "Here's how you can get the pairs of data out such that the pair relationship can be reliably maintained."
   ]
  },
  {
   "cell_type": "code",
   "execution_count": 19,
   "metadata": {},
   "outputs": [
    {
     "name": "stdout",
     "output_type": "stream",
     "text": [
      "[(1, ['cat', 'adult human', 'adult human', 'human child', 'rosy boa', \"Dumeril's boa\"]), (2, ['adult human', 'human child']), (3, ['adult human', 'adult human', 'human child', 'dog?']), ('garage 1', ['car', 'bike', 'bike', 'innumerable crap']), (5, ['adult human'])]\n"
     ]
    }
   ],
   "source": [
    "print(list(mybuilding.items()))"
   ]
  },
  {
   "cell_type": "markdown",
   "metadata": {},
   "source": [
    "These are tuple pairs, and are valuable when looping over them."
   ]
  },
  {
   "cell_type": "markdown",
   "metadata": {},
   "source": [
    "## looping over lists\n",
    "\n",
    "You may want to loop over the entire thing at once.  Using `.items()` for this is great for when you need both the key and value items out at the same time, and you want to keep your code very tidy."
   ]
  },
  {
   "cell_type": "code",
   "execution_count": 20,
   "metadata": {},
   "outputs": [
    {
     "name": "stdout",
     "output_type": "stream",
     "text": [
      "Unit 1 has cat, adult human, adult human, human child, rosy boa, Dumeril's boa\n",
      "Unit 2 has adult human, human child\n",
      "Unit 3 has adult human, adult human, human child, dog?\n",
      "Unit garage 1 has car, bike, bike, innumerable crap\n",
      "Unit 5 has adult human\n"
     ]
    }
   ],
   "source": [
    "for key, value in mybuilding.items():\n",
    "    print(\"Unit\", key, \"has\", \", \".join(value))"
   ]
  },
  {
   "cell_type": "markdown",
   "metadata": {},
   "source": [
    "However, sometimes you might want to mess with the keys and only look up a few things.  (massive homework hint) In this case, you can extract out the list of keys, do what you need with it, and then loop through those remaining (LITERALLY DYING OF HINT HERE) keys.\n",
    "\n",
    "Say that I only want the integer value keys."
   ]
  },
  {
   "cell_type": "code",
   "execution_count": 21,
   "metadata": {},
   "outputs": [
    {
     "name": "stdout",
     "output_type": "stream",
     "text": [
      "rejected! garage 1\n",
      "Remaining keys are: [1, 2, 3, 5]\n",
      "1 has: cat, adult human, adult human, human child, rosy boa, Dumeril's boa\n",
      "2 has: adult human, human child\n",
      "3 has: adult human, adult human, human child, dog?\n",
      "5 has: adult human\n"
     ]
    }
   ],
   "source": [
    "allkeys = mybuilding.keys()\n",
    "\n",
    "justints = []\n",
    "\n",
    "for key in allkeys:\n",
    "    if type(key) == int:\n",
    "        justints.append(key)\n",
    "    else:\n",
    "        print(\"rejected!\", key)\n",
    "        \n",
    "print(\"Remaining keys are:\", justints)\n",
    "\n",
    "for key in justints:\n",
    "    print(key, \"has:\", \", \".join(mybuilding[key]))"
   ]
  },
  {
   "cell_type": "markdown",
   "metadata": {},
   "source": [
    "## Counting occurances\n",
    "\n",
    "There are several things we can do to count occurances, but I suggest using the `Counter` object first.\n",
    "\n",
    "Let's revisit last week's example of randomly counting to 100.  Below we've got code that runs the simulation 10,000 times and collects up the number of steps taken for each."
   ]
  },
  {
   "cell_type": "code",
   "execution_count": 22,
   "metadata": {},
   "outputs": [
    {
     "name": "stdout",
     "output_type": "stream",
     "text": [
      "The average number of steps to take is: 20.6106\n"
     ]
    }
   ],
   "source": [
    "import random\n",
    "\n",
    "# priming all the values\n",
    "count_sum = 0\n",
    "top = 100\n",
    "step_count = 0\n",
    "\n",
    "all_step_counts = []\n",
    "\n",
    "for i in range(10000):\n",
    "    while count_sum < 100:\n",
    "        my_num =  random.randint(0, 10)\n",
    "\n",
    "        count_sum += my_num # sum = sum + my_num\n",
    "        step_count += 1 # step_count = step_count + 1\n",
    "#     print(sum, step_count)\n",
    "    all_step_counts.append(step_count)\n",
    "    # reset!\n",
    "    count_sum = 0\n",
    "    step_count = 0\n",
    "\n",
    "print(\"The average number of steps to take is:\", sum(all_step_counts) / len(all_step_counts))"
   ]
  },
  {
   "cell_type": "markdown",
   "metadata": {},
   "source": [
    "# Make a dictionary of the data"
   ]
  },
  {
   "cell_type": "code",
   "execution_count": 23,
   "metadata": {},
   "outputs": [],
   "source": [
    "counts_dict = {} # make an empty dictionary\n",
    "\n",
    "for one_count in all_step_counts:\n",
    "    if one_count not in counts_dict:\n",
    "        counts_dict[one_count] = 1 # start at one if it isn't already there\n",
    "    else:\n",
    "        counts_dict[one_count] += 1 # increment up by one if it isn't already there"
   ]
  },
  {
   "cell_type": "code",
   "execution_count": 24,
   "metadata": {},
   "outputs": [
    {
     "name": "stdout",
     "output_type": "stream",
     "text": [
      "{18: 1096, 17: 704, 19: 1287, 23: 903, 21: 1315, 28: 79, 20: 1391, 26: 265, 15: 181, 27: 129, 22: 1144, 25: 387, 24: 603, 16: 398, 14: 35, 30: 24, 29: 33, 13: 11, 33: 2, 31: 6, 32: 4, 12: 1, 34: 2}\n"
     ]
    }
   ],
   "source": [
    "print(counts_dict)"
   ]
  },
  {
   "cell_type": "markdown",
   "metadata": {},
   "source": [
    "# But what can we do when we're using strings like the Dracula text?"
   ]
  },
  {
   "cell_type": "markdown",
   "metadata": {},
   "source": [
    "### Problem Statement\n",
    "From the book DRACULA, the contents of the book itself, how many times are the words, \"Renfield, Blood, Mina, Church, and Hellsing\" repeated? What is the count of each word repeated in Dracula?\n",
    "\n",
    "------\n",
    "\n",
    "To figure this problem out, we have to think about a few things.\n",
    "\n",
    "#### 1. What is our fidelity?\n",
    "Our unit of measure in this particular problem is a word. Specifically, we want to break things down into a list of lines so that we can then split those up into a list of words. Additionally, we want *only* the book Dracula. This means that we will need to deal with getting the book separated from the table of contents as well as the header and footer. We also need to deal with the infamous *NOTE*. So we have that already!"
   ]
  },
  {
   "cell_type": "code",
   "execution_count": 25,
   "metadata": {},
   "outputs": [],
   "source": [
    "# we open up the Dracula text AND readlines() so that we can get all the lines into a list.\n",
    "dracula = open('dracula.txt', 'r')\n",
    "all_text = dracula.readlines()\n",
    "dracula.close() # remember to close the file!\n",
    "\n",
    "# alternatively, you could also do something like:\n",
    "\n",
    "# with open('dracula.txt', 'r') as dracula:\n",
    "#     all_text = dracula.readlines()\n",
    "\n",
    "# This would open the text file, read it in as a variable called Dracula and as it does that, \n",
    "# readlines() all lines into a variable called, \"all_text\" AND close the file.\n",
    "\n",
    "# we then need to get all of dracula accounted for. You will recall this example from class!\n",
    "start_index = all_text.index('DRACULA\\n')\n",
    "end_index = all_text.index('                                THE END\\n')+1"
   ]
  },
  {
   "cell_type": "markdown",
   "metadata": {},
   "source": [
    "#### 2. How do we get what we want?\n",
    "\n",
    "The problem asks, \"For every word in Dracula, how many of them are repeated? What is the count of each word repeated in Dracula?\"\n",
    "\n",
    "We already got the whole of dracula in our \"START_INDEX/END_INDEX\" so how do we go on from there? Well, we need to think about what readlines() did! It put all of dracula into a giant list for us. As it is, we can add to this code a for loop that will split up the list entries into words."
   ]
  },
  {
   "cell_type": "code",
   "execution_count": 26,
   "metadata": {},
   "outputs": [],
   "source": [
    "# First, we need to get everything into one space. We'll make a variable for it.\n",
    "\n",
    "content_lines = all_text[start_index:end_index] #everything in the book.\n",
    "\n",
    "# then we need to split stuff up! That means we take each line and .split it on spaces. SO:\n",
    "\n",
    "# for line in content_lines:\n",
    "#     each_word = line.split()\n",
    "    \n",
    "# But we need to consider actually collecting them so we need to add an accumulator of some kind or another. \n",
    "\n",
    "for line in content_lines:\n",
    "    each_word = line.lower().split() #we're adding .lower here so that every word is uniform. \n",
    "\n",
    "# But how do we actually count these words?"
   ]
  },
  {
   "cell_type": "markdown",
   "metadata": {},
   "source": [
    "#### 3. How to count things?\n",
    "\n",
    "There are 2 ways that you can count things. We'll cover one version without using a dictionary and another with dictionaries. First, we need to think about how to count things and we can do that with a module. \n",
    "\n",
    "We've talked about these in a bunch of different places but we've never really addressed them directly. We've used the [String Module](https://docs.python.org/2/library/string.html). In particular, we used 'string.punctuation' for getting things like commas and periods from the text itself. \n",
    "\n",
    "There are other modules built in to the Python interpreter and we call them the [Python Standard Library](https://docs.python.org/3/library/). One of these modules allows us to collect data of a particular type and it is called \"COLLECTIONS\". You can read about it here: [http://pymbook.readthedocs.io/en/latest/collections.html](http://pymbook.readthedocs.io/en/latest/collections.html). \n",
    "\n",
    "\n",
    "Of interest is `Counter` of which is said `Counter is a dict subclass which helps to count hashable objects. Inside it elements are stored as dictionary keys and counts are stored as values which can be zero or negative.`"
   ]
  },
  {
   "cell_type": "code",
   "execution_count": 38,
   "metadata": {},
   "outputs": [
    {
     "name": "stdout",
     "output_type": "stream",
     "text": [
      "Counter({'helsing': 215, 'mina': 100, 'blood': 62, 'renfield': 25, 'church': 9})\n",
      "helsing    \t| 0215\n",
      "mina    \t| 0100\n",
      "blood    \t| 0062\n",
      "renfield    \t| 0025\n",
      "church    \t| 0009\n"
     ]
    }
   ],
   "source": [
    "# first, we need to import the Counter from the collections module. \n",
    "\n",
    "from collections import Counter\n",
    "\n",
    "# this method allows us to import the Counter directly. Note the Capital letter in Counter.\n",
    "\n",
    "target_words = ['renfield', 'blood', 'mina', 'church', 'helsing']\n",
    "\n",
    "# we'll then define our words of interest. In this case, we just have 5\n",
    "\n",
    "# so first, we'll create an accumulator using the Counter. It's important to note here that \n",
    "# Counter basically creates \"DICTIONARIES\" in that it creates key, value. This will be useful later.\n",
    "\n",
    "word_counts = Counter() # this is basically a dictionary accumulator but it allows us a bit more leeway with the code.\n",
    "\n",
    "# We separated all of our lines out of Dracula. For this, we'll use a FOR loop to dissect it out.\n",
    "# once we get a line, we need to make it lower case AND then make it into individual words. \n",
    "# We then get in to each word in the list of the line we made. \n",
    "\n",
    "for line in content_lines:\n",
    "    words = line.lower().split()\n",
    "    for word in words:\n",
    "        \n",
    "        # Inside of this secondary FOR loop, we're checking to see if the word exists. If it does, \n",
    "        # we use the dictionary method .get() to check and see if the word exists. If it does, +1, if not, set\n",
    "        # to 0 and then add 1.\n",
    "        \n",
    "        if word in target_words:\n",
    "            word_counts[word] = word_counts.get(word, 0) + 1\n",
    "        else:\n",
    "            pass\n",
    "        \n",
    "# First we'll print the dictionary as it is when it's done. \n",
    "print(word_counts)\n",
    "\n",
    "# Note that the counter has collected these values and that they're in a dictionary! So we can use the above method\n",
    "# to ferret the data out.\n",
    "\n",
    "# we then need to create a For loop to deal with these data and print them in a structured way.\n",
    "\n",
    "for word, freq in word_counts.most_common(50):\n",
    "    print(word, '   \\t|', str(freq).zfill(4))"
   ]
  },
  {
   "cell_type": "markdown",
   "metadata": {},
   "source": [
    "#### But what if we want to use dictionaries directly? What if we want to count everything by hand instead of using a module?\n",
    "\n",
    "In this case, things get a little tricky but still works mostly the same way. Instead of importing the Collections module or the Counter constant to do things for us, we have to think about it plainly. We'll also shift the words around a little. Let's say you're looking for gypsy-oriented language in Bram Stoker's Dracula and you wanted to count it in addition to every time an animal is mentioned by name.\n",
    "\n",
    "Also, what if we wanted to sort the values from most to least?\n",
    "\n",
    "How can we create a dictionary on our own? "
   ]
  },
  {
   "cell_type": "code",
   "execution_count": 42,
   "metadata": {},
   "outputs": [
    {
     "name": "stdout",
     "output_type": "stream",
     "text": [
      "The word Help appeared: 79 times in Bram Stoker's Dracula.\n",
      "The word Memory appeared: 16 times in Bram Stoker's Dracula.\n",
      "The word Wolf appeared: 16 times in Bram Stoker's Dracula.\n",
      "The word Dog appeared: 15 times in Bram Stoker's Dracula.\n",
      "The word Cat appeared: 5 times in Bram Stoker's Dracula.\n",
      "The word Transylvania appeared: 4 times in Bram Stoker's Dracula.\n",
      "The word Bat appeared: 2 times in Bram Stoker's Dracula.\n",
      "The word Trap appeared: 1 times in Bram Stoker's Dracula.\n",
      "The word Crystal appeared: 1 times in Bram Stoker's Dracula.\n",
      "The word Gypsy appeared: 1 times in Bram Stoker's Dracula.\n"
     ]
    }
   ],
   "source": [
    "# Let's open up the dracula text and work with it. \n",
    "words_of_interest = ['gypsy', 'dog', 'cat', 'transylvania', 'mordova', 'crystal', 'wolf', 'rabbit', 'help', 'trap', 'memory', 'bat']  # among the most common words in English\n",
    "\n",
    "# We will use the MAIN() function from Zelle's piece here. \n",
    "\n",
    "def main():\n",
    "    dracula = open('dracula.txt', 'r')\n",
    "    all_text = dracula.readlines()\n",
    "    dracula.close()\n",
    "    \n",
    "    # Everything else is the same. Note that we're using the same method of reading all lines first.\n",
    "\n",
    "    start_index = all_text.index('DRACULA\\n')\n",
    "    end_index = all_text.index('                                THE END\\n')+1\n",
    "\n",
    "    content_lines = all_text[start_index:end_index]\n",
    "    # Above we created the data we wanted.\n",
    "\n",
    "    # Now, we need to create the dictionary accumulator.\n",
    "    word_counts = {}\n",
    "    # AND we need to think about the various ways to get what we want. For example.\n",
    "    for line in content_lines:\n",
    "        # we get the lines, then split them into words...making them lower case so we can get them all easily.\n",
    "        words = line.lower().split()\n",
    "        # We then take each word and go through them individually. \n",
    "        for word in words:\n",
    "            # We need a way to conditionally sort them. This first IF basically passes up EVERY word not of interest.\n",
    "            if word not in words_of_interest:\n",
    "                pass \n",
    "            # Remember, passing is just a way of saying, \"Don't do anything.\" \n",
    "            elif word in words_of_interest and word not in word_counts:\n",
    "            # The above is checking if the word currently being considered is IN words_of_interest and NOT IN word_counts.\n",
    "            # We have to do this because we need to start counting it. \n",
    "                word_counts[word] = 0\n",
    "            # Once it's in, we need to actually count it. \n",
    "                word_counts[word] = word_counts[word]+1\n",
    "            # Finally, we can count the item as it is now IN words_of_interest AND in word_counts.\n",
    "            elif word in words_of_interest and word in word_counts:\n",
    "                word_counts[word] = word_counts[word]+1\n",
    "\n",
    "    # Calling items() and casting to list results in a list of tuples, with each tuple containing the (key,\n",
    "    # value). For word counts, this looks like [('happy', 3), ('nail-studded', 1), ('lucy', 141), ...]. A dictionary\n",
    "    # isn't directly sortable, but turning into a list in this way makes the elements sortable.\n",
    "    word_count_tuples = list(word_counts.items())\n",
    "\n",
    "    # sort() will call the byFreq() method once for each element in the list that's being sorted. In this case,\n",
    "    # each element is an individual tuple (see above). The value returned by byFreq() will be the basis of the sorting,\n",
    "    # so we want to make sure we return the count.\n",
    "    word_count_tuples.sort(key=byFreq, reverse=True)\n",
    "    for word, freq in word_count_tuples: \n",
    "        print(\"The word \"+word.capitalize() + ' appeared:', freq, '''times in Bram Stoker's Dracula.''')\n",
    "\n",
    "\n",
    "# As mentioned above, the value returned by byFreq() will the basis of the sorting. Since we want the list to be\n",
    "# sorted on the basis of the word counts, and since the word count is at index 1 of each (word, count) tuple,\n",
    "# we return the value at index 1.\n",
    "def byFreq(pair):\n",
    "    return pair[1]\n",
    "\n",
    "\n",
    "main()\n"
   ]
  },
  {
   "cell_type": "markdown",
   "metadata": {},
   "source": [
    "In the above, we went through a few different datatypes. \n",
    "\n",
    "1. We read dracula in as a list.\n",
    "1. We then created a new list that began and ended with Dracula.\n",
    "1. We then went through and split each item of the list up and then separated those items into individual words.\n",
    "1. If those words were words of interest, we first sent the word to the dictionary as a key and then set a counter to 0.\n",
    "1. If the word was on the list, we added 1 to the count.\n",
    "\n",
    "After we went through each item, we had a dictionary. However, that dictionary needed to be sorted. So we:\n",
    "\n",
    "1. Went through the dictionary and created a collection of tuples. \n",
    "1. Went through each tuple and sorted them out by the frequency they were repeated.\n",
    "\n",
    "How did we sort the tuples? Well, that can be seen in the byFreq(pair) function. Why is this?\n",
    "\n",
    "Note the comment above it. We needed some values to sort the data. If we get the second part of each tuple (word,how often that word appeared), we have an integer that we can use to sort based on frequency. \n",
    "\n",
    "What is that \"reverse = TRUE\" well, this is a parameter of the [sort() function](https://www.programiz.com/python-programming/methods/list/sort). If set to True, values will decrease in value (descending order). If False, ascending order. \n"
   ]
  },
  {
   "cell_type": "code",
   "execution_count": 45,
   "metadata": {},
   "outputs": [
    {
     "name": "stdout",
     "output_type": "stream",
     "text": [
      "1. The word Said appeared 569 time(s).\n",
      "2. The word Come appeared 337 time(s).\n",
      "3. The word Way appeared 221 time(s).\n",
      "4. The word Dear appeared 220 time(s).\n",
      "5. The word Think appeared 219 time(s).\n",
      "6. The word Room appeared 205 time(s).\n",
      "7. The word Door appeared 195 time(s).\n",
      "8. The word Sleep appeared 179 time(s).\n",
      "9. The word Look appeared 169 time(s).\n",
      "10. The word Thought appeared 145 time(s).\n",
      "11. The word Men appeared 143 time(s).\n",
      "12. The word Asked appeared 142 time(s).\n",
      "13. The word Life appeared 141 time(s).\n",
      "14. The word Place appeared 132 time(s).\n",
      "15. The word House appeared 129 time(s).\n",
      "16. The word Heart appeared 129 time(s).\n",
      "17. The word Began appeared 113 time(s).\n",
      "18. The word Open appeared 100 time(s).\n",
      "19. The word Right appeared 98 time(s).\n",
      "20. The word Tonight appeared 85 time(s).\n",
      "21. The word Read appeared 81 time(s).\n",
      "22. The word Spoke appeared 77 time(s).\n",
      "23. The word End appeared 72 time(s).\n",
      "24. The word Ready appeared 71 time(s).\n",
      "25. The word Try appeared 64 time(s).\n",
      "26. The word Child appeared 61 time(s).\n",
      "27. The word Answered appeared 60 time(s).\n",
      "28. The word Lips appeared 60 time(s).\n",
      "29. The word Present appeared 57 time(s).\n",
      "30. The word Voice appeared 56 time(s).\n",
      "31. The word Understand appeared 55 time(s).\n",
      "32. The word Quick appeared 51 time(s).\n",
      "33. The word Saying appeared 50 time(s).\n",
      "34. The word Silence appeared 49 time(s).\n",
      "35. The word Power appeared 46 time(s).\n",
      "36. The word Stopped appeared 43 time(s).\n",
      "37. The word Friends appeared 40 time(s).\n",
      "38. The word Sight appeared 38 time(s).\n",
      "39. The word Snow appeared 38 time(s).\n",
      "40. The word Earth appeared 36 time(s).\n",
      "41. The word Learn appeared 35 time(s).\n",
      "42. The word Quickly appeared 35 time(s).\n",
      "43. The word Talk appeared 34 time(s).\n",
      "44. The word Expected appeared 34 time(s).\n",
      "45. The word Doing appeared 33 time(s).\n",
      "46. The word Arms appeared 33 time(s).\n",
      "47. The word Coffin appeared 33 time(s).\n",
      "48. The word Order appeared 32 time(s).\n",
      "49. The word Herself appeared 31 time(s).\n",
      "50. The word Hall appeared 29 time(s).\n",
      "51. The word Run appeared 28 time(s).\n",
      "52. The word Reason appeared 28 time(s).\n",
      "53. The word Wolf appeared 26 time(s).\n",
      "54. The word Added appeared 25 time(s).\n",
      "55. The word Replied appeared 24 time(s).\n",
      "56. The word Deal appeared 24 time(s).\n",
      "57. The word Pity appeared 24 time(s).\n",
      "58. The word Father appeared 21 time(s).\n",
      "59. The word Softly appeared 20 time(s).\n",
      "60. The word Lives appeared 20 time(s).\n",
      "61. The word Gravely appeared 19 time(s).\n",
      "62. The word Presence appeared 19 time(s).\n",
      "63. The word Sky appeared 18 time(s).\n",
      "64. The word Whispered appeared 17 time(s).\n",
      "65. The word Distance appeared 16 time(s).\n",
      "66. The word Pleasure appeared 16 time(s).\n",
      "67. The word Story appeared 16 time(s).\n",
      "68. The word Solemnly appeared 16 time(s).\n",
      "69. The word Excitement appeared 14 time(s).\n",
      "70. The word Reply appeared 14 time(s).\n",
      "71. The word Passing appeared 14 time(s).\n",
      "72. The word Watched appeared 14 time(s).\n",
      "73. The word Whisper appeared 13 time(s).\n",
      "74. The word Coach appeared 12 time(s).\n",
      "75. The word Emotion appeared 12 time(s).\n",
      "76. The word Tone appeared 11 time(s).\n",
      "77. The word 29 appeared 11 time(s).\n",
      "78. The word Continued appeared 11 time(s).\n",
      "79. The word Tongue appeared 10 time(s).\n",
      "80. The word Disturbed appeared 10 time(s).\n",
      "81. The word Sunlight appeared 9 time(s).\n",
      "82. The word Ceased appeared 8 time(s).\n",
      "83. The word Experienced appeared 8 time(s).\n",
      "84. The word Bearing appeared 8 time(s).\n",
      "85. The word Interested appeared 7 time(s).\n",
      "86. The word Unclean appeared 7 time(s).\n",
      "87. The word Recent appeared 6 time(s).\n",
      "88. The word City appeared 6 time(s).\n",
      "89. The word Lordship appeared 6 time(s).\n",
      "90. The word Discovery appeared 6 time(s).\n",
      "91. The word Arrives appeared 6 time(s).\n",
      "92. The word Statement appeared 6 time(s).\n",
      "93. The word Comforting appeared 5 time(s).\n",
      "94. The word Noticing appeared 5 time(s).\n",
      "95. The word Vault appeared 5 time(s).\n",
      "96. The word Year appeared 5 time(s).\n",
      "97. The word Sobs appeared 5 time(s).\n",
      "98. The word Isself appeared 5 time(s).\n",
      "99. The word Knives appeared 5 time(s).\n",
      "100. The word Transaction appeared 4 time(s).\n"
     ]
    }
   ],
   "source": [
    "import string\n",
    "\n",
    "dracula = open('dracula.txt', 'r')\n",
    "all_text = dracula.readlines()\n",
    "dracula.close()\n",
    "\n",
    "file_words = open('stopwords.txt', 'r')\n",
    "stopwords = file_words.readlines()\n",
    "\n",
    "stopwords_cleaned = []\n",
    "for word in stopwords:\n",
    "    clean_word = word.replace('\\n','')\n",
    "    stopwords_cleaned.append(clean_word)\n",
    "\n",
    "\n",
    "# print(words_of_interest)\n",
    "start_index = all_text.index('DRACULA\\n')\n",
    "end_index = all_text.index('                                THE END\\n')+1\n",
    "\n",
    "content_lines = all_text[start_index:end_index]\n",
    "\n",
    "# print(type(content_lines))\n",
    "\n",
    "cleaned_drac = []\n",
    "for line in content_lines:\n",
    "    for punc in string.punctuation:\n",
    "        line = line.replace(punc, '').replace('\\n', '')\n",
    "    cleaned_drac.append(line)\n",
    "# print(cleaned_drac)\n",
    "\n",
    "word_counts = {}\n",
    "\n",
    "for line in cleaned_drac:\n",
    "    words = line.lower().split()\n",
    "    for word in words:\n",
    "        if word in cleaned_drac and word not in word_counts and word not in stopwords_cleaned:\n",
    "            word_counts[word] = 1\n",
    "            # word_counts[word] = word_counts[word] + 1\n",
    "        elif word in cleaned_drac and word in word_counts and word not in stopwords_cleaned:\n",
    "            word_counts[word] = word_counts[word] + 1\n",
    "        else:\n",
    "            pass\n",
    "\n",
    "# print(word_counts)\n",
    "\n",
    "def byFreq(pair):\n",
    "    return pair[1]\n",
    "\n",
    "word_count_tuples = list(word_counts.items())\n",
    "word_count_tuples.sort(key=byFreq, reverse=True)\n",
    "\n",
    "count = 1\n",
    "for word, freq in word_count_tuples[0:100]:\n",
    "    print(str(count)+'.'+\" The word \"+word.capitalize()+' appeared '+ str(freq) + ' time(s).')\n",
    "    count+=1"
   ]
  },
  {
   "cell_type": "code",
   "execution_count": null,
   "metadata": {},
   "outputs": [],
   "source": []
  }
 ],
 "metadata": {
  "kernelspec": {
   "display_name": "Python 3",
   "language": "python",
   "name": "python3"
  },
  "language_info": {
   "codemirror_mode": {
    "name": "ipython",
    "version": 3
   },
   "file_extension": ".py",
   "mimetype": "text/x-python",
   "name": "python",
   "nbconvert_exporter": "python",
   "pygments_lexer": "ipython3",
   "version": "3.6.4"
  }
 },
 "nbformat": 4,
 "nbformat_minor": 2
}
