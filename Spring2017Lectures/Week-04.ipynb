{
 "cells": [
  {
   "cell_type": "markdown",
   "metadata": {},
   "source": [
    "# Week 04: Strings and words!\n",
    "\n",
    "This week and next week we'll be splitting chapter 5 apart.  This week we'll cover basic string methods, counting words, handingling text, etc.  Next week we'll look at file processing."
   ]
  },
  {
   "cell_type": "markdown",
   "metadata": {},
   "source": [
    "## What is snek's favorite weather?"
   ]
  },
  {
   "cell_type": "code",
   "execution_count": 1,
   "metadata": {
    "collapsed": false
   },
   "outputs": [
    {
     "name": "stdout",
     "output_type": "stream",
     "text": [
      "snow!\n"
     ]
    }
   ],
   "source": [
    "print(\"\".join(chr(code) for code in [115, 110, 111, 119, 33]))"
   ]
  },
  {
   "cell_type": "markdown",
   "metadata": {},
   "source": [
    "## What are strings?\n",
    "\n",
    "To the human, strings are just a collection of text characters.\n",
    "\n",
    "Strings are noted by `''` or `\"\"` or even `\"\"\"\"\"\"`\n",
    "\n",
    "Let's do a refresher, what data type is: \n",
    "\n",
    "* `1`\n",
    "* `1.0`\n",
    "* `1.1`\n",
    "* `1.`\n",
    "* `'one'`\n",
    "* `one = 1.0`\n",
    "* `''`\n",
    "\n",
    "Want the answers? Print each in `type()` to find out!"
   ]
  },
  {
   "cell_type": "markdown",
   "metadata": {},
   "source": [
    "Strings are really called `str` in the system, but it is just short for string.  Several core operators are overloaded for strings.\n",
    "\n",
    "* `str + str` \n",
    "    * will concatenate strings (this just means smashing them together, one directly after another.\n",
    "* `str * int`\n",
    "    * will repeat the string int number of times."
   ]
  },
  {
   "cell_type": "code",
   "execution_count": 2,
   "metadata": {
    "collapsed": false
   },
   "outputs": [],
   "source": [
    "left = \"fizzy\"\n",
    "right = \"pop\""
   ]
  },
  {
   "cell_type": "code",
   "execution_count": 3,
   "metadata": {
    "collapsed": false
   },
   "outputs": [
    {
     "name": "stdout",
     "output_type": "stream",
     "text": [
      "fizzypop\n"
     ]
    }
   ],
   "source": [
    "print(left + right)"
   ]
  },
  {
   "cell_type": "code",
   "execution_count": 4,
   "metadata": {
    "collapsed": false
   },
   "outputs": [
    {
     "name": "stdout",
     "output_type": "stream",
     "text": [
      "popfizzy\n"
     ]
    }
   ],
   "source": [
    "print(right + left)"
   ]
  },
  {
   "cell_type": "code",
   "execution_count": 5,
   "metadata": {
    "collapsed": false
   },
   "outputs": [
    {
     "name": "stdout",
     "output_type": "stream",
     "text": [
      "fizzy-something in the middle-pop\n"
     ]
    }
   ],
   "source": [
    "print(left + \"-something in the middle-\" + right)"
   ]
  },
  {
   "cell_type": "code",
   "execution_count": 6,
   "metadata": {
    "collapsed": false
   },
   "outputs": [
    {
     "name": "stdout",
     "output_type": "stream",
     "text": [
      "fizzyfizzy\n"
     ]
    }
   ],
   "source": [
    "print(left * 2)"
   ]
  },
  {
   "cell_type": "code",
   "execution_count": 7,
   "metadata": {
    "collapsed": false
   },
   "outputs": [
    {
     "name": "stdout",
     "output_type": "stream",
     "text": [
      "fizzyfizzypoppop\n"
     ]
    }
   ],
   "source": [
    "print(left * 2 + right * 2)"
   ]
  },
  {
   "cell_type": "markdown",
   "metadata": {},
   "source": [
    "## String indexing\n",
    "\n",
    "As with list indexing, much of the problem solving for your programming problems is just cleverness around string indexing.  The rules and syntax for list indexing work in much the same way for strings.\n",
    "\n",
    "We also covered a bit of this in last week's lecture, so do check out the additional material in Week 03's notes.\n",
    "\n",
    "Recall:\n",
    "\n",
    "* `string[start:stop(exclusive):step]`\n",
    "* `string[start:]`\n",
    "* `string[:stop]`\n",
    "* `string[::step]`"
   ]
  },
  {
   "cell_type": "code",
   "execution_count": 8,
   "metadata": {
    "collapsed": true
   },
   "outputs": [],
   "source": [
    "name = \"Leeloo\""
   ]
  },
  {
   "cell_type": "code",
   "execution_count": 9,
   "metadata": {
    "collapsed": false
   },
   "outputs": [
    {
     "name": "stdout",
     "output_type": "stream",
     "text": [
      "L\n"
     ]
    }
   ],
   "source": [
    "print(name[0])"
   ]
  },
  {
   "cell_type": "code",
   "execution_count": 10,
   "metadata": {
    "collapsed": false
   },
   "outputs": [
    {
     "name": "stdout",
     "output_type": "stream",
     "text": [
      "Lee\n"
     ]
    }
   ],
   "source": [
    "print(name[:3])"
   ]
  },
  {
   "cell_type": "code",
   "execution_count": 11,
   "metadata": {
    "collapsed": false
   },
   "outputs": [
    {
     "name": "stdout",
     "output_type": "stream",
     "text": [
      "loo\n"
     ]
    }
   ],
   "source": [
    "print(name[3:])"
   ]
  },
  {
   "cell_type": "code",
   "execution_count": 12,
   "metadata": {
    "collapsed": false
   },
   "outputs": [
    {
     "name": "stdout",
     "output_type": "stream",
     "text": [
      "Leo\n"
     ]
    }
   ],
   "source": [
    "print(name[::2])"
   ]
  },
  {
   "cell_type": "code",
   "execution_count": 13,
   "metadata": {
    "collapsed": false
   },
   "outputs": [
    {
     "name": "stdout",
     "output_type": "stream",
     "text": [
      "ooleeL\n"
     ]
    }
   ],
   "source": [
    "print(name[::-1])"
   ]
  },
  {
   "cell_type": "markdown",
   "metadata": {},
   "source": [
    "## Looping through strings\n",
    "\n",
    "You can loop through strings like you loop through lists.  Instead of iterating over elements of a lists, it iterates over the characters in the string.  You declare your iterable variable as normal, and remember that it can be anything."
   ]
  },
  {
   "cell_type": "code",
   "execution_count": 14,
   "metadata": {
    "collapsed": false
   },
   "outputs": [
    {
     "name": "stdout",
     "output_type": "stream",
     "text": [
      "I\n",
      " \n",
      "a\n",
      "m\n",
      " \n",
      "a\n",
      " \n",
      "b\n",
      "a\n",
      "n\n",
      "a\n",
      "n\n",
      "a\n"
     ]
    }
   ],
   "source": [
    "for char in 'I am a banana':\n",
    "    print(char)"
   ]
  },
  {
   "cell_type": "markdown",
   "metadata": {},
   "source": [
    "## Loops and cleverness\n",
    "\n",
    "Let's take a scenario where you want to grab the first three letters of each name in a list.  From this question, we know there are two activities we need to do:\n",
    "\n",
    "1. Loop through the names\n",
    "2. Be able to grab the first three characters of a string."
   ]
  },
  {
   "cell_type": "code",
   "execution_count": 15,
   "metadata": {
    "collapsed": false
   },
   "outputs": [
    {
     "name": "stdout",
     "output_type": "stream",
     "text": [
      "Starbuck\n",
      "She-Ra\n",
      "Ada\n",
      "Leeloo\n"
     ]
    }
   ],
   "source": [
    "# looping throug a list of names\n",
    "\n",
    "names = ['Starbuck', 'She-Ra', 'Ada', 'Leeloo']\n",
    "\n",
    "for name in names:\n",
    "    print(name)"
   ]
  },
  {
   "cell_type": "code",
   "execution_count": 16,
   "metadata": {
    "collapsed": false
   },
   "outputs": [
    {
     "name": "stdout",
     "output_type": "stream",
     "text": [
      "Sta\n"
     ]
    }
   ],
   "source": [
    "# ok, that's great, now let's remind ourselves about getting the first three letters\n",
    "\n",
    "just_one_name = names[0]\n",
    "\n",
    "print(just_one_name[:3])"
   ]
  },
  {
   "cell_type": "code",
   "execution_count": 17,
   "metadata": {
    "collapsed": false
   },
   "outputs": [
    {
     "name": "stdout",
     "output_type": "stream",
     "text": [
      "Sta\n",
      "She\n",
      "Ada\n",
      "Lee\n"
     ]
    }
   ],
   "source": [
    "# ok, let's put all this together\n",
    "\n",
    "names = ['Starbuck', 'She-Ra', 'Ada', 'Leeloo']\n",
    "\n",
    "for name in names:\n",
    "    print(name[:3])\n"
   ]
  },
  {
   "cell_type": "markdown",
   "metadata": {},
   "source": [
    "## Encoding\n",
    "\n",
    "Behind the scenes, everything in computing is a number.  This includes characters.  We can use `ord()` to reveal the numerical representation of the characters and `chr()` to take a number and reveal the character behind it.\n",
    "\n",
    "When we use `<`, `>`, and `==` on characters, it is comparing these numbers."
   ]
  },
  {
   "cell_type": "code",
   "execution_count": 18,
   "metadata": {
    "collapsed": false
   },
   "outputs": [
    {
     "name": "stdout",
     "output_type": "stream",
     "text": [
      "65\n"
     ]
    }
   ],
   "source": [
    "print(ord('A'))"
   ]
  },
  {
   "cell_type": "code",
   "execution_count": 19,
   "metadata": {
    "collapsed": false
   },
   "outputs": [
    {
     "name": "stdout",
     "output_type": "stream",
     "text": [
      "97\n"
     ]
    }
   ],
   "source": [
    "print(ord('a'))"
   ]
  },
  {
   "cell_type": "code",
   "execution_count": 20,
   "metadata": {
    "collapsed": false
   },
   "outputs": [
    {
     "name": "stdout",
     "output_type": "stream",
     "text": [
      "True\n"
     ]
    }
   ],
   "source": [
    "print('A' < 'a')"
   ]
  },
  {
   "cell_type": "code",
   "execution_count": 21,
   "metadata": {
    "collapsed": false
   },
   "outputs": [
    {
     "name": "stdout",
     "output_type": "stream",
     "text": [
      "K\n"
     ]
    }
   ],
   "source": [
    "print(chr(75))"
   ]
  },
  {
   "cell_type": "markdown",
   "metadata": {},
   "source": [
    "We can combine these!\n",
    "\n",
    "Example:  What's the letter before A?"
   ]
  },
  {
   "cell_type": "code",
   "execution_count": 22,
   "metadata": {
    "collapsed": false
   },
   "outputs": [
    {
     "name": "stdout",
     "output_type": "stream",
     "text": [
      "@\n"
     ]
    }
   ],
   "source": [
    "A_number = ord('A')\n",
    "\n",
    "before_A = A_number - 1\n",
    "\n",
    "letter_before_A = chr(before_A)\n",
    "\n",
    "print(letter_before_A)"
   ]
  },
  {
   "cell_type": "code",
   "execution_count": 38,
   "metadata": {
    "collapsed": false
   },
   "outputs": [],
   "source": [
    "# for i in range(128):\n",
    "#     print(chr(i))\n",
    "# I can't print this cell out without github being fussypants over it"
   ]
  },
  {
   "cell_type": "markdown",
   "metadata": {},
   "source": [
    "## String methods\n",
    "\n",
    "You can use the 'dot' method to apply methods on strings to mutate them. There way too many of these to go over them all, but we can highlight some of the msot common ones."
   ]
  },
  {
   "cell_type": "code",
   "execution_count": 24,
   "metadata": {
    "collapsed": true
   },
   "outputs": [],
   "source": [
    "sentence = \"I am a meat popsicle.\""
   ]
  },
  {
   "cell_type": "code",
   "execution_count": 25,
   "metadata": {
    "collapsed": false
   },
   "outputs": [
    {
     "name": "stdout",
     "output_type": "stream",
     "text": [
      "I AM A MEAT POPSICLE.\n",
      "i am a meat popsicle.\n"
     ]
    }
   ],
   "source": [
    "print(sentence.upper())\n",
    "print(sentence.lower())"
   ]
  },
  {
   "cell_type": "code",
   "execution_count": 26,
   "metadata": {
    "collapsed": false
   },
   "outputs": [
    {
     "name": "stdout",
     "output_type": "stream",
     "text": [
      "1\n",
      "1\n"
     ]
    }
   ],
   "source": [
    "print(sentence.count('i'))\n",
    "print(sentence.count('I'))\n",
    "\n",
    "# so there are one upper and one lower case i"
   ]
  },
  {
   "cell_type": "code",
   "execution_count": 27,
   "metadata": {
    "collapsed": false
   },
   "outputs": [
    {
     "name": "stdout",
     "output_type": "stream",
     "text": [
      "2\n"
     ]
    }
   ],
   "source": [
    "# we can chain these together and get different results\n",
    "\n",
    "print(sentence.lower().count('i'))\n",
    "\n",
    "# now we have two!"
   ]
  },
  {
   "cell_type": "markdown",
   "metadata": {},
   "source": [
    "## Splitting strings\n",
    "\n",
    "Recall how we played with this last week.  You can use `.split()` on a string to separate the text chunks away from the white space."
   ]
  },
  {
   "cell_type": "code",
   "execution_count": 28,
   "metadata": {
    "collapsed": true
   },
   "outputs": [],
   "source": [
    "sometext = \"\"\"It is a truth universally acknowledged, that a single man in possession\n",
    "of a good fortune, must be in want of a wife.\n",
    "\n",
    "However little known the feelings or views of such a man may be on his\n",
    "first entering a neighbourhood, this truth is so well fixed in the minds\n",
    "of the surrounding families, that he is considered the rightful property\n",
    "of some one or other of their daughters.\"\"\""
   ]
  },
  {
   "cell_type": "code",
   "execution_count": 29,
   "metadata": {
    "collapsed": false
   },
   "outputs": [
    {
     "name": "stdout",
     "output_type": "stream",
     "text": [
      "['It', 'is', 'a', 'truth', 'universally', 'acknowledged,', 'that', 'a', 'single', 'man', 'in', 'possession', 'of', 'a', 'good', 'fortune,', 'must', 'be', 'in', 'want', 'of', 'a', 'wife.', 'However', 'little', 'known', 'the', 'feelings', 'or', 'views', 'of', 'such', 'a', 'man', 'may', 'be', 'on', 'his', 'first', 'entering', 'a', 'neighbourhood,', 'this', 'truth', 'is', 'so', 'well', 'fixed', 'in', 'the', 'minds', 'of', 'the', 'surrounding', 'families,', 'that', 'he', 'is', 'considered', 'the', 'rightful', 'property', 'of', 'some', 'one', 'or', 'other', 'of', 'their', 'daughters.']\n"
     ]
    }
   ],
   "source": [
    "print(sometext.split())"
   ]
  },
  {
   "cell_type": "markdown",
   "metadata": {},
   "source": [
    "Now recall that we can get the length of a string via `len()`.  "
   ]
  },
  {
   "cell_type": "code",
   "execution_count": 30,
   "metadata": {
    "collapsed": false
   },
   "outputs": [
    {
     "name": "stdout",
     "output_type": "stream",
     "text": [
      "6\n"
     ]
    }
   ],
   "source": [
    "print(len('Hello!')) # note that ! is being counted as a letter as well."
   ]
  },
  {
   "cell_type": "markdown",
   "metadata": {
    "collapsed": true
   },
   "source": [
    "# Let's work through two exercises together\n",
    "\n",
    "## PE9: Write a program that counts the number of words in a sentence entered by the user.\n",
    "\n",
    "So this requires:\n",
    "\n",
    "1. Get a sentence as a string.\n",
    "    * `sen = input(\"give me a sentence: \")`\n",
    "2. Sort out how to get the words within that sentence.\n",
    "    * We can see an easy way to to do this is `string.split()`, which makes a list\n",
    "    * `words = sen.split()`\n",
    "3. Now that we have the list of words in the sentence, how do we count how many there are?\n",
    "    * Ya, we can use an accumulator to count, and we might want to use this if we had a complex set of tests to check if something was a word.  Otherwise, we can use something like `len()` on the list of words to see how many things are in it.\n",
    "    * So think of it less like \"how many words are in here\" and more like, \"if words holds a list of all the words in the sentence, how can I tell how long that list is?  And therefore measure how many words were split out of that sentence.\"\n",
    "    * `num_words = len(words)`\n",
    "4. Then we just print it out!\n",
    "    * `print(\"The number of words are:\", num_words)`\n",
    "    \n",
    "All together now..."
   ]
  },
  {
   "cell_type": "code",
   "execution_count": 32,
   "metadata": {
    "collapsed": false
   },
   "outputs": [
    {
     "name": "stdout",
     "output_type": "stream",
     "text": [
      "Give me a sentence: hello I would like to science\n",
      "The number of words are: 6\n"
     ]
    }
   ],
   "source": [
    "def main():\n",
    "    sen = input(\"Give me a sentence: \")\n",
    "\n",
    "    words = sen.split()\n",
    "\n",
    "    num_words = len(words)\n",
    "\n",
    "    print(\"The number of words are:\", num_words)\n",
    "    \n",
    "main()"
   ]
  },
  {
   "cell_type": "markdown",
   "metadata": {},
   "source": [
    "## PE2: A certain CS professor gives 5-point quizzes that are graded on the scale 5-A, 4-B, 3-C, 2-D, 1- F, 0-F. Write a program that accepts a quiz score as an input and prints out the corresponding grade.\n",
    "\n",
    "Our moodle discussion on this has me rant about how this is a weird sort of thing to do with such limited tools that we have.  However, this can be a fun way to play with the creativity and cleverness of the solving problems. \n",
    "\n",
    "Let's break this question down.\n",
    "\n",
    "* We're going to receive a 5 point grade, from 0-5.  Okay, well, inclusively this is actually 6 because it's possible to have no grade, which is 0.  So sure, fine.\n",
    "* We need to use that score we recieve to look up the string value of the grade we want to give them.\n",
    "    * Challenge: we don't know any other complex data structure that would make this SO MUCH BETTER.  But we can still accomplish this task. \n",
    "    * Recall that each letter in a string has an explicit and assigned index position.  Postiion 1 of \"Pop\" is the character 'o' for ever and always.\n",
    "    * So if we think about how we can use a string as a database, we have the characters as the values and the index positions as the keys.  \n",
    "    * \"What's the value of 3?  Oh, why, that's 'C'.\"\n",
    "    \n",
    "    \n",
    "1.  Construct the string-as-database of grades.\n",
    "    * If we know that 0 -> F, 1-> F, 2-> D, 3-> C, 4-> B, 5-> A, well then, don't looks pretty much like our standard index position procession.\n",
    "    * `'FFDCBA'` is a string that could accomplish this. We can test this by using `enumerate()`.\n",
    "    * ```python \n",
    "    In [1]: for index, character in enumerate('FFDCBA'):\n",
    "   ...:     print(index, character)\n",
    "   ...:\n",
    "0 F\n",
    "1 F\n",
    "2 D\n",
    "3 C\n",
    "4 B\n",
    "5 A\n",
    "```\n",
    "    * So `grades = 'FFDCBA'`\n",
    "2.  Receive a grade from user.\n",
    "    * Remember that when we use `input()` we get back a string.  Well, we can't pass a string off as an index position, we need an integer. We can use either the usual `eval(input(\"grade please\"))` or cast the value from `input()` as an int. Examples:\n",
    "    * `points = eval(input(\"give me points: \"))` which will run the string value through `eval()` which should return an int for us.\n",
    "    * Or we can do this in two steps:\n",
    "    ```python \n",
    "    raw_points = input(\"give me points: \")\n",
    "    int_points = int(raw_points)\n",
    "    ```\n",
    "3.  Look up the letter value of that grade within the string-as-database of grades.\n",
    "    * Remember that we designed this string-as-database scenario to have the index position of the string serve as the key to look up the letter value. So we should pass our integer value of the grades into our string.\n",
    "    * `letter_grade = grades[int_points]`\n",
    "4.  Print that thing out.\n",
    "    * `print(letter_grade)`\n",
    "\n",
    "All together now!\n"
   ]
  },
  {
   "cell_type": "code",
   "execution_count": 33,
   "metadata": {
    "collapsed": false
   },
   "outputs": [
    {
     "name": "stdout",
     "output_type": "stream",
     "text": [
      "give me points: 3\n",
      "C\n"
     ]
    }
   ],
   "source": [
    "def main():\n",
    "    grades = 'FFDCBA'\n",
    "\n",
    "    raw_points = input(\"give me points: \")\n",
    "    int_points = int(raw_points)\n",
    "\n",
    "    letter_grade = grades[int_points]\n",
    "    print(letter_grade)\n",
    "    \n",
    "main()"
   ]
  },
  {
   "cell_type": "code",
   "execution_count": 34,
   "metadata": {
    "collapsed": false
   },
   "outputs": [
    {
     "name": "stdout",
     "output_type": "stream",
     "text": [
      "hello, I would like to science\n"
     ]
    }
   ],
   "source": [
    "print(\"hello, I would like to science\")"
   ]
  },
  {
   "cell_type": "code",
   "execution_count": null,
   "metadata": {
    "collapsed": true
   },
   "outputs": [],
   "source": []
  }
 ],
 "metadata": {
  "anaconda-cloud": {},
  "kernelspec": {
   "display_name": "Python [conda root]",
   "language": "python",
   "name": "conda-root-py"
  },
  "language_info": {
   "codemirror_mode": {
    "name": "ipython",
    "version": 3
   },
   "file_extension": ".py",
   "mimetype": "text/x-python",
   "name": "python",
   "nbconvert_exporter": "python",
   "pygments_lexer": "ipython3",
   "version": "3.5.2"
  }
 },
 "nbformat": 4,
 "nbformat_minor": 1
}
