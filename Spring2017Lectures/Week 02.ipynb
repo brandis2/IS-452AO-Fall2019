{
 "cells": [
  {
   "cell_type": "markdown",
   "metadata": {},
   "source": [
    "# Week 2\n",
    "\n",
    "Let's talk about lists, loops, and doin' stuff."
   ]
  },
  {
   "cell_type": "markdown",
   "metadata": {},
   "source": [
    "# Submitting homework\n",
    "\n",
    "(copied out of my post in the forums)\n",
    "\n",
    "A submission should include:\n",
    "\n",
    "* a narrative file (pdf or word, pdf is easier on us)\n",
    "* .py files for each of your homework problems requiring code for a solution\n",
    "    * some homework problems are inherently narrative, so the answer in your narrative file is fine. \n",
    "\n",
    "The narrative file should include:\n",
    "\n",
    "* Some description of your thoughts through each problem\n",
    "* Any supporting screenshots, etc.\n",
    "* Answers to your homework problems (when applicable), you don't need to write another narrative about this problem unless you want to.\n",
    "* A short reflection on the week\n",
    "* Be at least 300 words, not a target number, so you'll need to go longer if there are more homework problems.  So think, in a world where there were a minimal homework problems that week and you're an expert who ran into no problems, you should still write at least 300 words.  I don't expect you to need to go over 1000, though.  Please don't.  So somewhere between 300-500-700, depending on how many problems there were to complete, should get the job done just fine.\n",
    "* We aren't grading on style, we just want to know your thoughts on things.  So feel free to come up with your own format that makes sense.  We aren't grading these like papers, so really, don't worry about it so much.\n",
    "* We'll give you feedback about your narrative for this first assignment to let you know if you're on the wrong track with it.  Chances are whatever you come up with is fine!\n",
    "* Seriously, don't stress about the narrative.  Just write some stuff.\n",
    "\n",
    "The .py files should include:\n",
    "\n",
    "* code, obviously\n",
    "* which problem number it is for, in the file name and in a short code comment, preferably\n",
    "* any code comments you'd like to throw in, to point things out to the graders or add clarification about what you're doing\n",
    "* some comments showing an example input (this will make more sense in later assignments) and an example of how the output should look (you can provide just the first line of output, you don't need to do all of it).\n",
    "* remember that you can find these files within the project folder you created when you set up pycharm"
   ]
  },
  {
   "cell_type": "markdown",
   "metadata": {},
   "source": [
    "## A quick note on the main() business\n",
    "\n",
    "We haven't talked about functions yet, so this is a pretty annoying \"roll with it\" stage.  I personally wouldn't have incorporated this style so quickly in the book, but in an effort to be coherent, we'll use it.\n",
    "\n",
    "Some tips:\n",
    "\n",
    "* Keep your indents in order.\n",
    "    * Everything tabbed in under the `def` line will 'belong' to that function.\n",
    "* None of the code within the `def main():` block will run if you don't 'call' the function.\n",
    "    * Perfect looking script executing without an output?  This is likely the culprit.\n",
    "    * You need to have a `main()` as your last line of code without any indents.\n",
    "    \n",
    "For example:\n",
    "\n",
    "```python\n",
    "def main():\n",
    "    print(\"fizzy pop sandwich\")\n",
    "    # more code goes here\n",
    "\n",
    "main() # last line, no indents\n",
    "```\n",
    "\n",
    "This style of script construction is not _required_ for Python, but will seem more logical as we go on and build more complex programs.\n",
    "\n",
    "## On `range()`\n",
    "\n",
    "Remember that there are two ways to handle `range()`.  For those who need it more explicitly, you can see this in the documentation: https://docs.python.org/3.5/library/stdtypes.html#ranges  There are two formations of this function, and the one that is called depends on how many parameters (the stuff within the `()`) you pass it."
   ]
  },
  {
   "cell_type": "markdown",
   "metadata": {},
   "source": [
    "# Lists\n",
    "\n",
    "Lists are a huge part of the Python lanaguage, and an essential data structure.  Lists are noted by the use of square brackets (`[]`).\n",
    "\n",
    "## Lists can contain:\n",
    "* Nothing, e.g. `[]`\n",
    "* Numbers, e.g. `[0, 1, 2]` or `[0.0, 0.5, 1.0, 1.5]`\n",
    "* Strings, e.g. `['hello', 'little', 'snakes']`\n",
    "* Other lists, e.g. `[ [0, 1, 2], [0.0, .5, 1.0] ]`\n",
    "* A mix of stuff, e.g. `[ [0.0, 1.0], 'hello', ['fizzy', 'pop', 'sandwich'] ]`"
   ]
  },
  {
   "cell_type": "markdown",
   "metadata": {},
   "source": [
    "## What do we do with lists?\n",
    "\n",
    "Mostly just keep stuff in order.  The contents of a list have a specific order to them, which you can access by position.  Because of this, we can depend on positionality to know what things mean.\n",
    "\n",
    "You will almost always want to assign a list to a variable name to work with that list.  Don't call it list. Call it something that makese sense for the contents.  \n",
    "\n",
    "Suggestion:  Since a list will usually contain multiple things, make the variable name the plural version of what the contents are.  You do you, but if you name a list `ghjkllkjhg` and can't remember what it contains, that's a life choice problem to ponder on for a bit."
   ]
  },
  {
   "cell_type": "code",
   "execution_count": 1,
   "metadata": {
    "collapsed": true
   },
   "outputs": [],
   "source": [
    "names = ['Starbuck', 'She-Ra', 'Ada', 'Leeloo']\n",
    "homes = ['Battlestar Galactica', 'Eternia', 'England', 'Mondoshawa']"
   ]
  },
  {
   "cell_type": "markdown",
   "metadata": {},
   "source": [
    "## Accessing items in lists\n",
    "\n",
    "We use square brackets again to access items from lists.  We can get:\n",
    "\n",
    "* single items via an index position, e.g. `names[0]` for the first item (yup, we'll talk about that zero)\n",
    "* multiple items via a slice command, e.g. `names[0:2]` for the first 2 (yup, we'll talk about why this isn't 3 items)\n",
    "\n",
    "### Index position\n",
    "\n",
    "* `0` is the first item\n",
    "* `-1` is the last item\n",
    "* You can keep going with the negative to keep moving backwards in the index line\n",
    "* And all the numbers in between\n",
    "\n",
    "### Slicing\n",
    "\n",
    "Now, this is something to write down:\n",
    "\n",
    "`my_list[start (inclusive): stop (exclusive): step]`\n",
    "\n",
    "Every number in this notation is optional, but the `:`s are required to note which number you are talking about.  Slicing is an essential task in Python, and well worth taking the time to practice.  A lot of the 'cleverness' to certain programs and algorithms are from nifty slicing behavior."
   ]
  },
  {
   "cell_type": "markdown",
   "metadata": {},
   "source": [
    "The first two items: `names[:3]` or `names[0:3]`"
   ]
  },
  {
   "cell_type": "code",
   "execution_count": 2,
   "metadata": {
    "collapsed": false
   },
   "outputs": [
    {
     "data": {
      "text/plain": [
       "['Starbuck', 'She-Ra', 'Ada']"
      ]
     },
     "execution_count": 2,
     "metadata": {},
     "output_type": "execute_result"
    }
   ],
   "source": [
    "names[:3]"
   ]
  },
  {
   "cell_type": "markdown",
   "metadata": {},
   "source": [
    "Some of the middle to the end: `names[2:]` or `names[2:4]` Yup, `3` is my last index position, so why will `4` work?\n",
    "\n",
    "Likewise, why won't `names[2:-1]` work?"
   ]
  },
  {
   "cell_type": "code",
   "execution_count": 3,
   "metadata": {
    "collapsed": false
   },
   "outputs": [
    {
     "data": {
      "text/plain": [
       "['Ada', 'Leeloo']"
      ]
     },
     "execution_count": 3,
     "metadata": {},
     "output_type": "execute_result"
    }
   ],
   "source": [
    "names[2:]"
   ]
  },
  {
   "cell_type": "code",
   "execution_count": 4,
   "metadata": {
    "collapsed": false
   },
   "outputs": [
    {
     "data": {
      "text/plain": [
       "['Ada', 'Leeloo']"
      ]
     },
     "execution_count": 4,
     "metadata": {},
     "output_type": "execute_result"
    }
   ],
   "source": [
    "names[2:4]"
   ]
  },
  {
   "cell_type": "code",
   "execution_count": 5,
   "metadata": {
    "collapsed": false
   },
   "outputs": [
    {
     "data": {
      "text/plain": [
       "['Ada']"
      ]
     },
     "execution_count": 5,
     "metadata": {},
     "output_type": "execute_result"
    }
   ],
   "source": [
    "names[2:-1]"
   ]
  },
  {
   "cell_type": "markdown",
   "metadata": {},
   "source": [
    "Every other item: `names[::2]`"
   ]
  },
  {
   "cell_type": "code",
   "execution_count": 6,
   "metadata": {
    "collapsed": false
   },
   "outputs": [
    {
     "data": {
      "text/plain": [
       "['Starbuck', 'Ada']"
      ]
     },
     "execution_count": 6,
     "metadata": {},
     "output_type": "execute_result"
    }
   ],
   "source": [
    "names[::2]"
   ]
  },
  {
   "cell_type": "markdown",
   "metadata": {},
   "source": [
    "All items, but backwards: `names[::-1]`"
   ]
  },
  {
   "cell_type": "code",
   "execution_count": 7,
   "metadata": {
    "collapsed": false
   },
   "outputs": [
    {
     "data": {
      "text/plain": [
       "['Leeloo', 'Ada', 'She-Ra', 'Starbuck']"
      ]
     },
     "execution_count": 7,
     "metadata": {},
     "output_type": "execute_result"
    }
   ],
   "source": [
    "names[::-1]"
   ]
  },
  {
   "cell_type": "markdown",
   "metadata": {},
   "source": [
    "# For loops\n",
    "\n",
    "These are definite loops, meaning that there is a known number of items to be looped over.\n",
    "\n",
    "Loops will then go over each of those items.\n",
    "\n",
    "Backing up to take a look at lists again, we can see that they are a sequenes of objects.  When we loop over a sequence, we are iterating over each item in turn.\n",
    "\n",
    "So if I have a list of numbers, `[0, 1, 2, 3, 4, 5]` we can go through them one at a time with the `for` loop.\n",
    "\n",
    "The basic syntax for a for loop is:\n",
    "\n",
    "```python\n",
    "for iterable_variable in sequence:\n",
    "    # you do stuff!\n",
    "```\n",
    "\n",
    "Iterable variable:  This is a variable that is declared and assigned during the first execution of the loop, it is reassigned to each subsequet value of in the sequence every time the loop starts over.  This is a regular variable, which you can access and manipulate after running the loop."
   ]
  },
  {
   "cell_type": "code",
   "execution_count": 8,
   "metadata": {
    "collapsed": false
   },
   "outputs": [
    {
     "name": "stdout",
     "output_type": "stream",
     "text": [
      "[0, 1, 2, 3, 4, 5, 6, 7, 8, 9]\n",
      "The current value of the iterable variable is: 0\n",
      "The current value of the iterable variable is: 1\n",
      "The current value of the iterable variable is: 2\n",
      "The current value of the iterable variable is: 3\n",
      "The current value of the iterable variable is: 4\n",
      "The current value of the iterable variable is: 5\n",
      "The current value of the iterable variable is: 6\n",
      "The current value of the iterable variable is: 7\n",
      "The current value of the iterable variable is: 8\n",
      "The current value of the iterable variable is: 9\n"
     ]
    }
   ],
   "source": [
    "print(list(range(10)))\n",
    "\n",
    "for number in range(10):\n",
    "    print(\"The current value of the iterable variable is:\", number)"
   ]
  },
  {
   "cell_type": "markdown",
   "metadata": {},
   "source": [
    "You can name your interable variable anything you want, but you'll often have to type it in again, so it should be meaningful.  However, you may be just wanting to run the loop a specific number of times, and won't need access to that number.\n",
    "\n",
    "Suggestion:  Since you're naming your list variables with plurals, use the singular version of that as the iterable variable."
   ]
  },
  {
   "cell_type": "code",
   "execution_count": 9,
   "metadata": {
    "collapsed": false
   },
   "outputs": [
    {
     "name": "stdout",
     "output_type": "stream",
     "text": [
      "The name is: Starbuck\n",
      "The name is: She-Ra\n",
      "The name is: Ada\n",
      "The name is: Leeloo\n"
     ]
    }
   ],
   "source": [
    "for name in names:\n",
    "    print(\"The name is:\", name)"
   ]
  },
  {
   "cell_type": "markdown",
   "metadata": {},
   "source": [
    "Sometimes you'll want to access the index position of a list in the process.  Here's a handy pattern:"
   ]
  },
  {
   "cell_type": "code",
   "execution_count": 10,
   "metadata": {
    "collapsed": false
   },
   "outputs": [
    {
     "name": "stdout",
     "output_type": "stream",
     "text": [
      "the index is: 0 -- the name is: Starbuck\n",
      "the index is: 1 -- the name is: She-Ra\n",
      "the index is: 2 -- the name is: Ada\n",
      "the index is: 3 -- the name is: Leeloo\n"
     ]
    }
   ],
   "source": [
    "for index, name in enumerate(names):\n",
    "    print(\"the index is:\", index, \"-- the name is:\", name)"
   ]
  },
  {
   "cell_type": "markdown",
   "metadata": {},
   "source": [
    "# Group activity\n",
    "\n",
    "I'm going to break everyone up into small groups.  Take 20 minutes and discuss each item in D4 (from Zelle, on page 52/53). Talk about any questions or uncertainties you have about each.  Practice explaining each item in just human words."
   ]
  },
  {
   "cell_type": "code",
   "execution_count": null,
   "metadata": {
    "collapsed": true
   },
   "outputs": [],
   "source": []
  },
  {
   "cell_type": "code",
   "execution_count": null,
   "metadata": {
    "collapsed": true
   },
   "outputs": [],
   "source": []
  },
  {
   "cell_type": "code",
   "execution_count": null,
   "metadata": {
    "collapsed": true
   },
   "outputs": [],
   "source": []
  },
  {
   "cell_type": "markdown",
   "metadata": {},
   "source": [
    "Looking under the hood, we can take a peek at what `enumerate()` is doing:"
   ]
  },
  {
   "cell_type": "code",
   "execution_count": 11,
   "metadata": {
    "collapsed": false
   },
   "outputs": [
    {
     "name": "stdout",
     "output_type": "stream",
     "text": [
      "[(0, 'Starbuck'), (1, 'She-Ra'), (2, 'Ada'), (3, 'Leeloo')]\n"
     ]
    }
   ],
   "source": [
    "print(list(enumerate(names)))"
   ]
  },
  {
   "cell_type": "markdown",
   "metadata": {},
   "source": [
    "So now that we're using the index position, we can use it elsewhere as well.  Say we wanted to also print out the home for each name.  \n",
    "\n",
    "Given that we know the lengths for each list are the same and we know that they match up..."
   ]
  },
  {
   "cell_type": "code",
   "execution_count": 12,
   "metadata": {
    "collapsed": false
   },
   "outputs": [
    {
     "name": "stdout",
     "output_type": "stream",
     "text": [
      "4\n",
      "4\n"
     ]
    }
   ],
   "source": [
    "print(len(names))\n",
    "print(len(homes))"
   ]
  },
  {
   "cell_type": "markdown",
   "metadata": {},
   "source": [
    "We can then take advantage of this and *lookup* the value from `homes` while we're looping through `names`."
   ]
  },
  {
   "cell_type": "code",
   "execution_count": 13,
   "metadata": {
    "collapsed": false
   },
   "outputs": [
    {
     "name": "stdout",
     "output_type": "stream",
     "text": [
      "The home of Starbuck is Battlestar Galactica\n",
      "The home of She-Ra is Eternia\n",
      "The home of Ada is England\n",
      "The home of Leeloo is Mondoshawa\n"
     ]
    }
   ],
   "source": [
    "for index, name in enumerate(names):\n",
    "    home = homes[index]\n",
    "    print(\"The home of\", name, \"is\", home)"
   ]
  },
  {
   "cell_type": "code",
   "execution_count": null,
   "metadata": {
    "collapsed": true
   },
   "outputs": [],
   "source": []
  }
 ],
 "metadata": {
  "anaconda-cloud": {},
  "kernelspec": {
   "display_name": "Python [conda root]",
   "language": "python",
   "name": "conda-root-py"
  },
  "language_info": {
   "codemirror_mode": {
    "name": "ipython",
    "version": 3
   },
   "file_extension": ".py",
   "mimetype": "text/x-python",
   "name": "python",
   "nbconvert_exporter": "python",
   "pygments_lexer": "ipython3",
   "version": "3.5.2"
  }
 },
 "nbformat": 4,
 "nbformat_minor": 1
}
