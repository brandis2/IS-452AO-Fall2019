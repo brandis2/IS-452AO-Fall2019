{
 "cells": [
  {
   "cell_type": "markdown",
   "metadata": {},
   "source": [
    "# Booleans!"
   ]
  },
  {
   "cell_type": "markdown",
   "metadata": {},
   "source": [
    "Now we can start doing interesting stuff now that we can do boolean checking.  We can use this to check inputs, create more complex algorithms, and even more complex data filtering.\n",
    "\n",
    "Our core vocabulary:\n",
    "\n",
    "* boolean: this is a logical object, either `True` or `False`\n",
    "* `True` and `False`: these are the two boolean objects available in Python, not that capitalization matters\n",
    "* `==` this is the equality check, which should be between two objects and will return either `True` or `False`, e.g.: \n",
    "    * `1 == 1` will return `True`\n",
    "    * `2 == 4` will return `False`\n",
    "* __conditional check__: this is an expression, or piece of python code, that will evaluate into either `True` or `False`.  Examples will be anything that has the `==` in it, or something that evaluates down to either `True` or `False`.  You can also just plunk those into the conditional check.\n",
    "* `if` this is your base keyword that every conditional check that will open with, and you may only use this once at the very beginning. You have to pass this a conditional check.  Example usage:\n",
    "    * ```python\n",
    "    if (conditional check statement):\n",
    "        stuff to do if the conditional check is True```\n",
    "* `elif`: short for 'else if', may come after an `if` block and should be on the same indent level as the parent `if` block.  Must be followed by a conditional check.  Example usage:\n",
    "    * ```python\n",
    "    if x > 10:\n",
    "        print(\"it is greater than 10\")\n",
    "     elif x >= 0 and x < 10:\n",
    "         print(\"it is between 0 and 9 (inclusive)\")```\n",
    "* `else`: this is an optional block that will catch anything that didn't pass on the previous conditional checks, you may only use this once and it can only appear at the end.  Example usage:\n",
    "    * ```python\n",
    "    if x > 10:\n",
    "        print(\"it is greater than 10\")\n",
    "     elif x >= 0 and x < 10:\n",
    "         print(\"it is between 0 and 9 (inclusive)\")\n",
    "     else:\n",
    "         print(\"x is below 0\")\n",
    "         ```\n",
    "    \n",
    "\n",
    "A tl;dr summary:\n",
    "\n",
    "* `if`: required, only once, and always your first statement. Put a conditional check after.\n",
    "* `elif`: optional, may appear many times, and must be directly after an `if` statement. On the same block level as your `if` statement.\n",
    "* `else`: optional, may appear once, and only as your last statement in the if block.  On the same block level as your if statement.\n",
    "   "
   ]
  },
  {
   "cell_type": "markdown",
   "metadata": {},
   "source": [
    "Let's work through a problem and just play with stuff in chicka chicka boom boom.\n",
    "\n",
    "Problem: find all mentions of alphabet characters, and produce data for how many characters are spoken about in each line.\n",
    "\n",
    "What we know:\n",
    "1) All alphabet characters are single letters.\n",
    "2) All alphabet characters are in upper case.\n",
    "\n",
    "So, first step, let's start reading in the letters"
   ]
  },
  {
   "cell_type": "code",
   "execution_count": 3,
   "metadata": {
    "collapsed": false
   },
   "outputs": [
    {
     "name": "stdout",
     "output_type": "stream",
     "text": [
      "A told B, and B told C, \"I'll meet you at the top of the coconut tree.\"\n",
      "\n",
      "\"Wheee!\" said D to E F G, \"I'll beat you to the top of the coconut tree.\"\n",
      "\n",
      "Chicka chicka boom boom! Will there be enough room? Here comes H up the coconut tree,\n",
      "\n",
      "and I and J and tag-along K, all on their way up the coconut tree.\n",
      "\n",
      "Chicka chicka boom boom! Will there be enough room? Look who's coming! L M N O P!\n",
      "\n",
      "And Q R S! And T U V! Still more - W! And X Y Z!\n",
      "\n",
      "The whole alphabet up the - Oh, no! Chicka chicka... BOOM! BOOM!\n",
      "\n",
      "Skit skat skoodle doot. Flip flop flee. Everybody running to the coconut tree.\n",
      "\n",
      "Mamas and papas and uncles and aunts hug their little dears, then dust their pants.\n",
      "\n",
      "\"Help us up,\" cried A B C.\n",
      "\n",
      "Next from the pileup skinned-knee D and stubbed-toe E and patched-up F. Then comes G all out of breath.\n",
      "\n",
      "H is tangled up with I. J and K are about to cry. L is knotted like a tie.\n",
      "\n",
      "M is looped. N is stopped. O is twisted alley-oop. Skit skat skoodle doot. Flip flop flee.\n",
      "\n",
      "Look who's coming! It's black-eyed P, Q R S, and loose-tooth T. Then U V W wiggle-jiggle free.\n",
      "\n",
      "Last to come X Y Z. And the sun goes down on the coconut tree...\n",
      "\n",
      "But - chicka chicka boom boom! Look, there's a full moon.\n",
      "\n",
      "A is out of bed, and this is what he said, \"Dare double dare, you can't catch me.\n",
      "\n",
      "Chicka chicka BOOM! BOOM!Chicka chicka BOOM! BOOM!\n",
      "\n",
      "I'll beat you to the top of the coconut tree.\"\n",
      "\n",
      "Chicka chicka BOOM! BOOM!\n"
     ]
    }
   ],
   "source": [
    "chicka = open('boomboom.txt', 'r')\n",
    "\n",
    "for line in chicka:\n",
    "    print(line)"
   ]
  },
  {
   "cell_type": "markdown",
   "metadata": {},
   "source": [
    "Great, so we're readin in each line.  Let's split the lines into the separate words."
   ]
  },
  {
   "cell_type": "code",
   "execution_count": 4,
   "metadata": {
    "collapsed": false
   },
   "outputs": [
    {
     "name": "stdout",
     "output_type": "stream",
     "text": [
      "['A', 'told', 'B,', 'and', 'B', 'told', 'C,', '\"I\\'ll', 'meet', 'you', 'at', 'the', 'top', 'of', 'the', 'coconut', 'tree.\"']\n",
      "['\"Wheee!\"', 'said', 'D', 'to', 'E', 'F', 'G,', '\"I\\'ll', 'beat', 'you', 'to', 'the', 'top', 'of', 'the', 'coconut', 'tree.\"']\n",
      "['Chicka', 'chicka', 'boom', 'boom!', 'Will', 'there', 'be', 'enough', 'room?', 'Here', 'comes', 'H', 'up', 'the', 'coconut', 'tree,']\n",
      "['and', 'I', 'and', 'J', 'and', 'tag-along', 'K,', 'all', 'on', 'their', 'way', 'up', 'the', 'coconut', 'tree.']\n",
      "['Chicka', 'chicka', 'boom', 'boom!', 'Will', 'there', 'be', 'enough', 'room?', 'Look', \"who's\", 'coming!', 'L', 'M', 'N', 'O', 'P!']\n",
      "['And', 'Q', 'R', 'S!', 'And', 'T', 'U', 'V!', 'Still', 'more', '-', 'W!', 'And', 'X', 'Y', 'Z!']\n",
      "['The', 'whole', 'alphabet', 'up', 'the', '-', 'Oh,', 'no!', 'Chicka', 'chicka...', 'BOOM!', 'BOOM!']\n",
      "['Skit', 'skat', 'skoodle', 'doot.', 'Flip', 'flop', 'flee.', 'Everybody', 'running', 'to', 'the', 'coconut', 'tree.']\n",
      "['Mamas', 'and', 'papas', 'and', 'uncles', 'and', 'aunts', 'hug', 'their', 'little', 'dears,', 'then', 'dust', 'their', 'pants.']\n",
      "['\"Help', 'us', 'up,\"', 'cried', 'A', 'B', 'C.']\n",
      "['Next', 'from', 'the', 'pileup', 'skinned-knee', 'D', 'and', 'stubbed-toe', 'E', 'and', 'patched-up', 'F.', 'Then', 'comes', 'G', 'all', 'out', 'of', 'breath.']\n",
      "['H', 'is', 'tangled', 'up', 'with', 'I.', 'J', 'and', 'K', 'are', 'about', 'to', 'cry.', 'L', 'is', 'knotted', 'like', 'a', 'tie.']\n",
      "['M', 'is', 'looped.', 'N', 'is', 'stopped.', 'O', 'is', 'twisted', 'alley-oop.', 'Skit', 'skat', 'skoodle', 'doot.', 'Flip', 'flop', 'flee.']\n",
      "['Look', \"who's\", 'coming!', \"It's\", 'black-eyed', 'P,', 'Q', 'R', 'S,', 'and', 'loose-tooth', 'T.', 'Then', 'U', 'V', 'W', 'wiggle-jiggle', 'free.']\n",
      "['Last', 'to', 'come', 'X', 'Y', 'Z.', 'And', 'the', 'sun', 'goes', 'down', 'on', 'the', 'coconut', 'tree...']\n",
      "['But', '-', 'chicka', 'chicka', 'boom', 'boom!', 'Look,', \"there's\", 'a', 'full', 'moon.']\n",
      "['A', 'is', 'out', 'of', 'bed,', 'and', 'this', 'is', 'what', 'he', 'said,', '\"Dare', 'double', 'dare,', 'you', \"can't\", 'catch', 'me.']\n",
      "['Chicka', 'chicka', 'BOOM!', 'BOOM!Chicka', 'chicka', 'BOOM!', 'BOOM!']\n",
      "[\"I'll\", 'beat', 'you', 'to', 'the', 'top', 'of', 'the', 'coconut', 'tree.\"']\n",
      "['Chicka', 'chicka', 'BOOM!', 'BOOM!']\n"
     ]
    }
   ],
   "source": [
    "chicka = open('boomboom.txt', 'r')\n",
    "\n",
    "for line in chicka:\n",
    "    print(line.split())"
   ]
  },
  {
   "cell_type": "markdown",
   "metadata": {},
   "source": [
    "This is working, but the punctuation is getting in the way.  How can we get it out?  Let's explore a new module and keyword.\n",
    "\n",
    "The keyword `in` will check to see if something is within a collection.  E.g. \"is 'A' in the list ['A', 'B', 'C']?  We can look at this and say that yes, it is.  Or we can do this:"
   ]
  },
  {
   "cell_type": "code",
   "execution_count": 5,
   "metadata": {
    "collapsed": false
   },
   "outputs": [
    {
     "data": {
      "text/plain": [
       "True"
      ]
     },
     "execution_count": 5,
     "metadata": {},
     "output_type": "execute_result"
    }
   ],
   "source": [
    "'A' in ['A', 'B', 'C']"
   ]
  },
  {
   "cell_type": "markdown",
   "metadata": {},
   "source": [
    "Remember that `'a'` is different from `'A'`."
   ]
  },
  {
   "cell_type": "code",
   "execution_count": 6,
   "metadata": {
    "collapsed": false
   },
   "outputs": [
    {
     "data": {
      "text/plain": [
       "False"
      ]
     },
     "execution_count": 6,
     "metadata": {},
     "output_type": "execute_result"
    }
   ],
   "source": [
    "'a' in ['A', 'B', 'C']"
   ]
  },
  {
   "cell_type": "markdown",
   "metadata": {},
   "source": [
    "Let's introduce the `string` module, which has some stock strings of letters we can use."
   ]
  },
  {
   "cell_type": "code",
   "execution_count": 8,
   "metadata": {
    "collapsed": false
   },
   "outputs": [
    {
     "name": "stdout",
     "output_type": "stream",
     "text": [
      "abcdefghijklmnopqrstuvwxyzABCDEFGHIJKLMNOPQRSTUVWXYZ\n",
      "ABCDEFGHIJKLMNOPQRSTUVWXYZ\n"
     ]
    }
   ],
   "source": [
    "\n",
    "import string\n",
    "print(string.ascii_letters)\n",
    "print(string.ascii_uppercase)"
   ]
  },
  {
   "cell_type": "code",
   "execution_count": 9,
   "metadata": {
    "collapsed": false
   },
   "outputs": [
    {
     "name": "stdout",
     "output_type": "stream",
     "text": [
      "True\n"
     ]
    }
   ],
   "source": [
    "print('A' in string.ascii_letters)"
   ]
  },
  {
   "cell_type": "code",
   "execution_count": 10,
   "metadata": {
    "collapsed": false
   },
   "outputs": [
    {
     "name": "stdout",
     "output_type": "stream",
     "text": [
      "False\n"
     ]
    }
   ],
   "source": [
    "print('a' in string.ascii_uppercase)"
   ]
  },
  {
   "cell_type": "markdown",
   "metadata": {},
   "source": [
    "This is great, so we have a way to check if something is a basic ascii letter.  But our problem is that we need to get rid of punctuation.  There's another string function, `.translate()` that takes 2 arguments:  what to replace something with and a string of letters to replace.  This is sort of a hack of how this method should be used, but it works!  But `string` is also here to help with `string.punctuation`.  We're getting more complicated now, so we need to retool our approach."
   ]
  },
  {
   "cell_type": "code",
   "execution_count": 28,
   "metadata": {
    "collapsed": false
   },
   "outputs": [
    {
     "name": "stdout",
     "output_type": "stream",
     "text": [
      "Skipping this thing! ,\n",
      "Skipping this thing! ,\n",
      "Skipping this thing! \"\n",
      "Skipping this thing! '\n",
      "Skipping this thing! .\n",
      "Skipping this thing! \"\n",
      "A told B and B told C Ill meet you at the top of the coconut tree\n",
      "\n",
      "Skipping this thing! \"\n",
      "Skipping this thing! !\n",
      "Skipping this thing! \"\n",
      "Skipping this thing! ,\n",
      "Skipping this thing! \"\n",
      "Skipping this thing! '\n",
      "Skipping this thing! .\n",
      "Skipping this thing! \"\n",
      "Wheee said D to E F G Ill beat you to the top of the coconut tree\n",
      "\n",
      "Skipping this thing! !\n",
      "Skipping this thing! ?\n",
      "Skipping this thing! ,\n",
      "Chicka chicka boom boom Will there be enough room Here comes H up the coconut tree\n",
      "\n",
      "Skipping this thing! -\n",
      "Skipping this thing! ,\n",
      "Skipping this thing! .\n",
      "and I and J and tagalong K all on their way up the coconut tree\n",
      "\n",
      "Skipping this thing! !\n",
      "Skipping this thing! ?\n",
      "Skipping this thing! '\n",
      "Skipping this thing! !\n",
      "Skipping this thing! !\n",
      "Chicka chicka boom boom Will there be enough room Look whos coming L M N O P\n",
      "\n",
      "Skipping this thing! !\n",
      "Skipping this thing! !\n",
      "Skipping this thing! -\n",
      "Skipping this thing! !\n",
      "Skipping this thing! !\n",
      "And Q R S And T U V Still more  W And X Y Z\n",
      "\n",
      "Skipping this thing! -\n",
      "Skipping this thing! ,\n",
      "Skipping this thing! !\n",
      "Skipping this thing! .\n",
      "Skipping this thing! .\n",
      "Skipping this thing! .\n",
      "Skipping this thing! !\n",
      "Skipping this thing! !\n",
      "The whole alphabet up the  Oh no Chicka chicka BOOM BOOM\n",
      "\n",
      "Skipping this thing! .\n",
      "Skipping this thing! .\n",
      "Skipping this thing! .\n",
      "Skit skat skoodle doot Flip flop flee Everybody running to the coconut tree\n",
      "\n",
      "Skipping this thing! ,\n",
      "Skipping this thing! .\n",
      "Mamas and papas and uncles and aunts hug their little dears then dust their pants\n",
      "\n",
      "Skipping this thing! \"\n",
      "Skipping this thing! ,\n",
      "Skipping this thing! \"\n",
      "Skipping this thing! .\n",
      "Help us up cried A B C\n",
      "\n",
      "Skipping this thing! -\n",
      "Skipping this thing! -\n",
      "Skipping this thing! -\n",
      "Skipping this thing! .\n",
      "Skipping this thing! .\n",
      "Next from the pileup skinnedknee D and stubbedtoe E and patchedup F Then comes G all out of breath\n",
      "\n",
      "Skipping this thing! .\n",
      "Skipping this thing! .\n",
      "Skipping this thing! .\n",
      "H is tangled up with I J and K are about to cry L is knotted like a tie\n",
      "\n",
      "Skipping this thing! .\n",
      "Skipping this thing! .\n",
      "Skipping this thing! -\n",
      "Skipping this thing! .\n",
      "Skipping this thing! .\n",
      "Skipping this thing! .\n",
      "M is looped N is stopped O is twisted alleyoop Skit skat skoodle doot Flip flop flee\n",
      "\n",
      "Skipping this thing! '\n",
      "Skipping this thing! !\n",
      "Skipping this thing! '\n",
      "Skipping this thing! -\n",
      "Skipping this thing! ,\n",
      "Skipping this thing! ,\n",
      "Skipping this thing! -\n",
      "Skipping this thing! .\n",
      "Skipping this thing! -\n",
      "Skipping this thing! .\n",
      "Look whos coming Its blackeyed P Q R S and loosetooth T Then U V W wigglejiggle free\n",
      "\n",
      "Skipping this thing! .\n",
      "Skipping this thing! .\n",
      "Skipping this thing! .\n",
      "Skipping this thing! .\n",
      "Last to come X Y Z And the sun goes down on the coconut tree\n",
      "\n",
      "Skipping this thing! -\n",
      "Skipping this thing! !\n",
      "Skipping this thing! ,\n",
      "Skipping this thing! '\n",
      "Skipping this thing! .\n",
      "But  chicka chicka boom boom Look theres a full moon\n",
      "\n",
      "Skipping this thing! ,\n",
      "Skipping this thing! ,\n",
      "Skipping this thing! \"\n",
      "Skipping this thing! ,\n",
      "Skipping this thing! '\n",
      "Skipping this thing! .\n",
      "A is out of bed and this is what he said Dare double dare you cant catch me\n",
      "\n",
      "Skipping this thing! !\n",
      "Skipping this thing! !\n",
      "Skipping this thing! !\n",
      "Skipping this thing! !\n",
      "Chicka chicka BOOM BOOMChicka chicka BOOM BOOM\n",
      "\n",
      "Skipping this thing! '\n",
      "Skipping this thing! .\n",
      "Skipping this thing! \"\n",
      "Ill beat you to the top of the coconut tree\n",
      "\n",
      "Skipping this thing! !\n",
      "Skipping this thing! !\n",
      "Chicka chicka BOOM BOOM\n"
     ]
    }
   ],
   "source": [
    "chicka = open('boomboom.txt', 'r')\n",
    "\n",
    "lines = chicka.readlines()\n",
    "\n",
    "for line in lines:\n",
    "    no_punc_line = \"\" # this is an empty string to collect letters\n",
    "    for letter in line: # remember that line is coming in as a string\n",
    "        if letter in string.punctuation:\n",
    "            print(\"Skipping this thing!\", letter)\n",
    "        else:\n",
    "            no_punc_line = no_punc_line + letter\n",
    "    print(no_punc_line)"
   ]
  },
  {
   "cell_type": "markdown",
   "metadata": {},
   "source": [
    "Looks like this is working!  We've got a cleaned line, so now we can focus on looking at the words.  Let's add that in.  We're going to use an accumulator, but we're only going to accumulate the stuff that passes our checks."
   ]
  },
  {
   "cell_type": "code",
   "execution_count": 32,
   "metadata": {
    "collapsed": false
   },
   "outputs": [
    {
     "name": "stdout",
     "output_type": "stream",
     "text": [
      "A told B and B told C Ill meet you at the top of the coconut tree\n",
      "\n",
      "['A', 'B', 'B', 'C']\n",
      "Wheee said D to E F G Ill beat you to the top of the coconut tree\n",
      "\n",
      "['D', 'E', 'F', 'G']\n",
      "Chicka chicka boom boom Will there be enough room Here comes H up the coconut tree\n",
      "\n",
      "['H']\n",
      "and I and J and tagalong K all on their way up the coconut tree\n",
      "\n",
      "['I', 'J', 'K']\n",
      "Chicka chicka boom boom Will there be enough room Look whos coming L M N O P\n",
      "\n",
      "['L', 'M', 'N', 'O', 'P']\n",
      "And Q R S And T U V Still more  W And X Y Z\n",
      "\n",
      "['Q', 'R', 'S', 'T', 'U', 'V', 'W', 'X', 'Y', 'Z']\n",
      "The whole alphabet up the  Oh no Chicka chicka BOOM BOOM\n",
      "\n",
      "[]\n",
      "Skit skat skoodle doot Flip flop flee Everybody running to the coconut tree\n",
      "\n",
      "[]\n",
      "Mamas and papas and uncles and aunts hug their little dears then dust their pants\n",
      "\n",
      "[]\n",
      "Help us up cried A B C\n",
      "\n",
      "['A', 'B', 'C']\n",
      "Next from the pileup skinnedknee D and stubbedtoe E and patchedup F Then comes G all out of breath\n",
      "\n",
      "['D', 'E', 'F', 'G']\n",
      "H is tangled up with I J and K are about to cry L is knotted like a tie\n",
      "\n",
      "['H', 'I', 'J', 'K', 'L', 'a']\n",
      "M is looped N is stopped O is twisted alleyoop Skit skat skoodle doot Flip flop flee\n",
      "\n",
      "['M', 'N', 'O']\n",
      "Look whos coming Its blackeyed P Q R S and loosetooth T Then U V W wigglejiggle free\n",
      "\n",
      "['P', 'Q', 'R', 'S', 'T', 'U', 'V', 'W']\n",
      "Last to come X Y Z And the sun goes down on the coconut tree\n",
      "\n",
      "['X', 'Y', 'Z']\n",
      "But  chicka chicka boom boom Look theres a full moon\n",
      "\n",
      "['a']\n",
      "A is out of bed and this is what he said Dare double dare you cant catch me\n",
      "\n",
      "['A']\n",
      "Chicka chicka BOOM BOOMChicka chicka BOOM BOOM\n",
      "\n",
      "[]\n",
      "Ill beat you to the top of the coconut tree\n",
      "\n",
      "[]\n",
      "Chicka chicka BOOM BOOM\n",
      "[]\n"
     ]
    }
   ],
   "source": [
    "chicka = open('boomboom.txt', 'r')\n",
    "\n",
    "lines = chicka.readlines()\n",
    "\n",
    "for line in lines:\n",
    "    no_punc_line = \"\" \n",
    "    for letter in line:\n",
    "        if letter in string.punctuation:\n",
    "            continue#print(\"Skipping this thing!\", letter) I can comment this out to shorten things\n",
    "        else:\n",
    "            no_punc_line = no_punc_line + letter\n",
    "    just_alphabet_characters = [] # I'm adding a list to accumulate the letters\n",
    "    for word in no_punc_line.split():\n",
    "        if len(word) == 1:\n",
    "            just_alphabet_characters.append(word)\n",
    "    print(no_punc_line)\n",
    "    print(just_alphabet_characters)"
   ]
  },
  {
   "cell_type": "markdown",
   "metadata": {},
   "source": [
    "This looks good, but you can see that we're getting 'a' in there as well.  Knowing the story, we know that all the character names should be in `string.ascii_upperacse`.  So we can add that in."
   ]
  },
  {
   "cell_type": "code",
   "execution_count": 34,
   "metadata": {
    "collapsed": false
   },
   "outputs": [
    {
     "name": "stdout",
     "output_type": "stream",
     "text": [
      "A told B and B told C Ill meet you at the top of the coconut tree\n",
      "\n",
      "['A', 'B', 'B', 'C']\n",
      "Wheee said D to E F G Ill beat you to the top of the coconut tree\n",
      "\n",
      "['D', 'E', 'F', 'G']\n",
      "Chicka chicka boom boom Will there be enough room Here comes H up the coconut tree\n",
      "\n",
      "['H']\n",
      "and I and J and tagalong K all on their way up the coconut tree\n",
      "\n",
      "['I', 'J', 'K']\n",
      "Chicka chicka boom boom Will there be enough room Look whos coming L M N O P\n",
      "\n",
      "['L', 'M', 'N', 'O', 'P']\n",
      "And Q R S And T U V Still more  W And X Y Z\n",
      "\n",
      "['Q', 'R', 'S', 'T', 'U', 'V', 'W', 'X', 'Y', 'Z']\n",
      "The whole alphabet up the  Oh no Chicka chicka BOOM BOOM\n",
      "\n",
      "[]\n",
      "Skit skat skoodle doot Flip flop flee Everybody running to the coconut tree\n",
      "\n",
      "[]\n",
      "Mamas and papas and uncles and aunts hug their little dears then dust their pants\n",
      "\n",
      "[]\n",
      "Help us up cried A B C\n",
      "\n",
      "['A', 'B', 'C']\n",
      "Next from the pileup skinnedknee D and stubbedtoe E and patchedup F Then comes G all out of breath\n",
      "\n",
      "['D', 'E', 'F', 'G']\n",
      "H is tangled up with I J and K are about to cry L is knotted like a tie\n",
      "\n",
      "['H', 'I', 'J', 'K', 'L']\n",
      "M is looped N is stopped O is twisted alleyoop Skit skat skoodle doot Flip flop flee\n",
      "\n",
      "['M', 'N', 'O']\n",
      "Look whos coming Its blackeyed P Q R S and loosetooth T Then U V W wigglejiggle free\n",
      "\n",
      "['P', 'Q', 'R', 'S', 'T', 'U', 'V', 'W']\n",
      "Last to come X Y Z And the sun goes down on the coconut tree\n",
      "\n",
      "['X', 'Y', 'Z']\n",
      "But  chicka chicka boom boom Look theres a full moon\n",
      "\n",
      "[]\n",
      "A is out of bed and this is what he said Dare double dare you cant catch me\n",
      "\n",
      "['A']\n",
      "Chicka chicka BOOM BOOMChicka chicka BOOM BOOM\n",
      "\n",
      "[]\n",
      "Ill beat you to the top of the coconut tree\n",
      "\n",
      "[]\n",
      "Chicka chicka BOOM BOOM\n",
      "[]\n"
     ]
    }
   ],
   "source": [
    "chicka = open('boomboom.txt', 'r')\n",
    "\n",
    "lines = chicka.readlines()\n",
    "\n",
    "for line in lines:\n",
    "    no_punc_line = \"\" \n",
    "    for letter in line:\n",
    "        if letter in string.punctuation:\n",
    "            continue#print(\"Skipping this thing!\", letter) I can comment this out to shorten things\n",
    "        else:\n",
    "            no_punc_line = no_punc_line + letter\n",
    "    just_alphabet_characters = [] # I'm adding a list to accumulate the letters\n",
    "    for word in no_punc_line.split():\n",
    "        if len(word) == 1 and word in string.ascii_uppercase: # adding in some extra stuff\n",
    "            just_alphabet_characters.append(word)\n",
    "    print(no_punc_line)\n",
    "    print(just_alphabet_characters)"
   ]
  },
  {
   "cell_type": "markdown",
   "metadata": {},
   "source": [
    "This isn't catching if A appears at the beginning of the line, but there are only 20 lines in the story so we can manually review and check that it isn't a problem. We're getting what we want, so now we can clean things up and get the actual numbers."
   ]
  },
  {
   "cell_type": "code",
   "execution_count": 35,
   "metadata": {
    "collapsed": false
   },
   "outputs": [
    {
     "name": "stdout",
     "output_type": "stream",
     "text": [
      "[4, 4, 1, 3, 5, 10, 0, 0, 0, 3, 4, 5, 3, 8, 3, 0, 1, 0, 0, 0]\n"
     ]
    }
   ],
   "source": [
    "chicka = open('boomboom.txt', 'r')\n",
    "\n",
    "lines = chicka.readlines()\n",
    "letter_counts = []\n",
    "\n",
    "for line in lines:\n",
    "    no_punc_line = \"\" \n",
    "    for letter in line:\n",
    "        if letter in string.punctuation:\n",
    "            continue #print(\"Skipping this thing!\", letter) I can comment this out to shorten things\n",
    "        else:\n",
    "            no_punc_line = no_punc_line + letter\n",
    "    just_alphabet_characters = [] # I'm adding a list to accumulate the letters\n",
    "    for word in no_punc_line.split():\n",
    "        if len(word) == 1 and word in string.ascii_uppercase: # adding in some extra stuff\n",
    "            just_alphabet_characters.append(word)\n",
    "    letter_counts.append(len(just_alphabet_characters))\n",
    "    #print(no_punc_line)\n",
    "    #print(just_alphabet_characters)\n",
    "    \n",
    "print(letter_counts)"
   ]
  },
  {
   "cell_type": "code",
   "execution_count": 43,
   "metadata": {
    "collapsed": false
   },
   "outputs": [
    {
     "data": {
      "image/png": "[encoded data removed]",
      "text/plain": [
       "<matplotlib.figure.Figure at 0x10c1f4518>"
      ]
     },
     "metadata": {},
     "output_type": "display_data"
    }
   ],
   "source": [
    "import matplotlib.pyplot as plt\n",
    "\n",
    "plt.plot(letter_counts)\n",
    "plt.title(\"Letter counts by line for\\nChicka Chicka Boom Boom\")\n",
    "plt.xlabel(\"Line Number\")\n",
    "plt.ylabel(\"Number of characters mentioned\")\n",
    "plt.show()"
   ]
  }
 ],
 "metadata": {
  "anaconda-cloud": {},
  "kernelspec": {
   "display_name": "Python [default]",
   "language": "python",
   "name": "python3"
  },
  "language_info": {
   "codemirror_mode": {
    "name": "ipython",
    "version": 3
   },
   "file_extension": ".py",
   "mimetype": "text/x-python",
   "name": "python",
   "nbconvert_exporter": "python",
   "pygments_lexer": "ipython3",
   "version": "3.5.2"
  }
 },
 "nbformat": 4,
 "nbformat_minor": 1
}
