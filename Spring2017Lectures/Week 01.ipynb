{
 "cells": [
  {
   "cell_type": "code",
   "execution_count": 2,
   "metadata": {
    "collapsed": true
   },
   "outputs": [],
   "source": [
    "from IPython.display import Image\n",
    "import IPython"
   ]
  },
  {
   "cell_type": "markdown",
   "metadata": {},
   "source": [
    "# Welcome!\n",
    "\n",
    "Welcome to LIS 452LE for Spring 2017.  This note format will be an experiment to see if it strikes the right balance.  These notebooks will be available in a publicly accessible GitHub repository."
   ]
  },
  {
   "cell_type": "markdown",
   "metadata": {},
   "source": [
    "# Highlights from the syllabus\n",
    "\n",
    "Read it thoroughly and do the syllabus quiz.  While I won't read every word, you'll be expected to have read it and understand the class policies.  I'll higlight the big ones briefly, but not all of them.  Let's get through this fast so we can get to the coding sooner.\n",
    "\n",
    "### How to get ahold of me\n",
    "\n",
    "1. I work full time and won't be able to respond ASAP to emails or calls during the work day.  Thus, most office hours are in the evenings or weekends.\n",
    "2. Class is from 5:30-7:30 on Wednesdays (yes, hello, we are there now).\n",
    "3. Formal office hours are from 7:30-8:30 Wednesdays, where I'll be actively logged into the BBC drop in room.\n",
    "4. Unofficial \"lab\" time is that same slot, 7:30-8:30 on Wednesdays. Feel free to log in and stay on mute while you work on stuff.  Ping the room if you have a question or issue.\n",
    "5. \"On call\" office hours will need to be booked in advance, 24 hours preferred but not required.  I'll likely be available by phone but not always able to log into BBC. Booking links and contact info is in the moodle page.\n",
    "\n",
    "### Stuff that's due\n",
    "\n",
    "1.  Quizzes are due Tuesdays\n",
    "2.  Homeworks due Thursdays\n",
    "3.  Other stuff generally due friday or saturday.\n",
    "4.  The moodle has the dates of record and is the final word.\n",
    "5.  All the dates should be in place at this point, so please check them against your personal calendars and plan accordingly. No late submissions for the midterm or final will be accepted except in cases of personal catastrophe.\n",
    "\n",
    "### Speaking of due dates; how to turn stuff in late and get away with it\n",
    "\n",
    "* I am not a fan of getting into extendion water treding.  There are a lot of homeworks, so getting behind will keep you behind.  But I recognize that life happens.\n",
    "* Homework assignments may be turned in up to 2 days late (a ‘day’ is the 24 hour period after an assignment is due), with a 10% penalty for each day late.  \n",
    "* I can grant extensions of up to 5 days by request.  Each student may receive a __maximum of three extensions__ over the course of the semester.  \n",
    "* The midterm and final projects are excluded from this policy.\n",
    "\n",
    "### Plagarism\n",
    "\n",
    "1. Offer a link or info if you've borrowed code from another source, such as stack overflow or another classmate.\n",
    "2. Some assignments require written narrative responses or essays.  If you plagiarize any part of your assignment I will give you a 0. No make up work or redos.\n",
    "3. Review the student code of conduct and syllabus for more info.\n",
    "\n",
    "### Missing class\n",
    "\n",
    "* 1 “Life happens” absence\n",
    "* 1 documented event absence\n",
    "\n",
    "I will be taking attendance and class will be interactive, so if you log in and ghost we'll know.\n",
    "\n",
    "### What is this 'narrative' thing?\n",
    "\n",
    "This is a required element for your homework assignments worth between 30-50% of your assignment grade. This should capture your thought process behind the answers for each problem and include a reflection on that week's materials.  The narrative allows us to give you partial credit for problems you could not complete or complete correctly.  These should be in PDF format and submitted along with your .py files.  Some problems will have narrative only answers, and that's fine.  I expect at least 300 words total for your narrative.\n",
    "\n",
    "### Read the syllabus for the rest of the goodies\n"
   ]
  },
  {
   "cell_type": "markdown",
   "metadata": {},
   "source": [
    "# What is this class?\n",
    "\n",
    "This is an intro to programming class.  Like intro intro.  Know how to code already? Go take data cleaning. That's an awesome class as a second step.  I can't stop you from staying for the easy A, but don't complain that the content was too basic.\n",
    "\n",
    "I have a focus on teaching programming through the history and community of practice, leading you toward data processing, rather than web development or application development.\n",
    "\n",
    "I presume you know nothing.  Like zzzzeeeeero.  We'll go from there and end with data processing over XML files. Mmmm metadata.\n",
    "\n",
    "Class will be a mix of review and preview of material.  I expect you to have reviewed the chapter beforehand and will come to class with questions."
   ]
  },
  {
   "cell_type": "markdown",
   "metadata": {},
   "source": [
    "# Don't freak out on me\n",
    "\n",
    "This is a fast paced class, grad level, and online. This means that you'll be doing a lot of self study.  I'm here to advise and direct, but I can't instruct you on everything you need to know.  2 hours isn't enough.\n",
    "\n",
    "But don't bail on me, though.\n",
    "\n",
    "There are major portions of the midterm and final that don't require coding.  Maths is not required.  You'll do some arithmetic and you'll need to think through algorithms, but otherwise you'll be fine."
   ]
  },
  {
   "cell_type": "markdown",
   "metadata": {},
   "source": [
    "# Assignments and such\n",
    "\n",
    "I think I've got everything sorted out pretty well, but this is the first semester with these materials, so there may be shifting.  Do not expect me to regularly push back due dates or change assignments."
   ]
  },
  {
   "cell_type": "markdown",
   "metadata": {},
   "source": [
    "# The book\n",
    "\n",
    "Not my favorite, but better and cheaper than others."
   ]
  },
  {
   "cell_type": "markdown",
   "metadata": {},
   "source": [
    "# Suggestions\n",
    "\n",
    "* You'll learn more from several short study sessions rather than an entire day of hacking.  Start early.\n",
    "* You will not do well if you wait until Thursday morning to open the book.\n",
    "* Read the homework problems first so you know what to focus your reading on.\n",
    "* I aim to make you capable. I can't make you a junior dev.\n",
    "* You won't hurt my feelings if you end up hating Python."
   ]
  },
  {
   "cell_type": "markdown",
   "metadata": {},
   "source": [
    "Some of you will feel like this: ![title](img/highfive.gif)\n",
    "\n",
    "\n",
    "\n",
    "Some this: ![title](img/nostrongfeelings.jpg)\n",
    "\n",
    "\n",
    "\n",
    "And others this: ![title](img/octopusnope.gif)\n",
    "\n",
    "These are all okay.\n"
   ]
  },
  {
   "cell_type": "markdown",
   "metadata": {},
   "source": [
    "# Key computing skills\n",
    "\n",
    "Please be sure you are able to:\n",
    "\n",
    "1. Take and send screenshots to me.  Remember that I need your entire screen with the code, not just a small portion with the error.  The errors alone are often not that helpful.\n",
    "2. Share your screen in BBC. Skype or Google Hangouts will work in a pinch, but annoying to switch platforms.\n",
    "3. Navigate your file system.\n",
    "\n",
    "Contact the iSchool helpdesk if you need refreshers on any of the above."
   ]
  },
  {
   "cell_type": "markdown",
   "metadata": {},
   "source": [
    "# Blackboard groundrules\n",
    "\n",
    "* Keep the side chatter in the chat to a minimum, but feel free to interrupt with questions.\n",
    "* Question tips: \n",
    "    * go for specific questions about the topic at hand.\n",
    "    * keep a running list of questions about things you hope I'll get to. Ask those when I open the floor.\n",
    "* This seems a little cruel, but it keeps things on pace.  Constatly reading questions and replying \"We'll be talking about that soon\" eats away at the little class time we have.\n",
    "* Feel free to email me things you'll hope we cover in class or other types of questions.\n",
    "* When we start digging in more I'll have polls for class questions."
   ]
  },
  {
   "cell_type": "code",
   "execution_count": 6,
   "metadata": {
    "collapsed": false
   },
   "outputs": [
    {
     "data": {
      "text/html": [
       "<iframe src=\"https://widgets.figshare.com/articles/1373932/embed?show_title=1\"             width=\"700\" height=\"716\" frameborder=\"0\"></iframe>"
      ],
      "text/plain": [
       "<IPython.core.display.HTML object>"
      ]
     },
     "execution_count": 6,
     "metadata": {},
     "output_type": "execute_result"
    }
   ],
   "source": [
    "iframe = '<iframe src=\"https://widgets.figshare.com/articles/1373932/embed?show_title=1\" \\\n",
    "            width=\"700\" height=\"716\" frameborder=\"0\"></iframe>'\n",
    "IPython.display.HTML(iframe)\n",
    "# this will not render nicely in github, if the iframe is blank, just navigate\n",
    "# to the URL in the HTML above"
   ]
  },
  {
   "cell_type": "markdown",
   "metadata": {},
   "source": [
    "# Hello, Python\n",
    "\n",
    "There are many ways to run Python code.  You're going to see three just in the next section of class.\n",
    "\n",
    "They are:\n",
    "\n",
    "1. As a script (run all the lines)\n",
    "2. Via the interpreter (one statement at a time)\n",
    "3. A hybrid (in code chunks)\n",
    "\n",
    "* interpreted language\n",
    "* general purpose programming language\n",
    "* open source\n",
    "* community driven"
   ]
  },
  {
   "cell_type": "markdown",
   "metadata": {},
   "source": [
    "# A tour of PyCharm\n",
    "\n",
    "* How to run a script\n",
    "* How to use the interpreter\n",
    "* The differences between the two\n",
    "* What is a kernel session?\n",
    "* .py versus IDLE"
   ]
  },
  {
   "cell_type": "markdown",
   "metadata": {},
   "source": [
    "## The book versus pycharm\n",
    "\n",
    "The book wasn't written for pycharm, so things aren't going to stack up perfectly.  It'll be okay, so long as you remain aware of this.\n",
    "\n",
    "* my rant about main()\n",
    "* black boxes and trust hats"
   ]
  },
  {
   "cell_type": "markdown",
   "metadata": {},
   "source": [
    "# Data types and expressions"
   ]
  },
  {
   "cell_type": "code",
   "execution_count": 12,
   "metadata": {
    "collapsed": false
   },
   "outputs": [
    {
     "name": "stdout",
     "output_type": "stream",
     "text": [
      "1\n",
      "1.5\n",
      "<class 'int'>\n",
      "<class 'float'>\n"
     ]
    }
   ],
   "source": [
    "# numbers\n",
    "\n",
    "print(1) # integers\n",
    "print(1.5) # floats\n",
    "print( type(1) )\n",
    "print( type(1.5) )"
   ]
  },
  {
   "cell_type": "code",
   "execution_count": 14,
   "metadata": {
    "collapsed": false
   },
   "outputs": [
    {
     "name": "stdout",
     "output_type": "stream",
     "text": [
      "text\n",
      "text\n",
      "\n",
      "\n",
      "text\n",
      "\n",
      "\n",
      "\n"
     ]
    }
   ],
   "source": [
    "# strings\n",
    "\n",
    "print('text')\n",
    "print(\"text\")\n",
    "print(\"\"\"\n",
    "\n",
    "text\n",
    "\n",
    "\n",
    "\"\"\")"
   ]
  },
  {
   "cell_type": "code",
   "execution_count": 21,
   "metadata": {
    "collapsed": false
   },
   "outputs": [
    {
     "name": "stdout",
     "output_type": "stream",
     "text": [
      "2.5\n",
      "0\n"
     ]
    }
   ],
   "source": [
    "# operators\n",
    "\n",
    "# print( 1 + 1 )\n",
    "# print( 1 * 1 )\n",
    "# print( 1 / 1 )\n",
    "# print( 1 // 1 )\n",
    "print( 5 / 2 )\n",
    "print( 6 % 2 )"
   ]
  },
  {
   "cell_type": "markdown",
   "metadata": {},
   "source": [
    "# Variables and assignments\n",
    "\n",
    "The great world of buckets.  The book covers this as well, and we'll review next week."
   ]
  },
  {
   "cell_type": "code",
   "execution_count": 22,
   "metadata": {
    "collapsed": false
   },
   "outputs": [
    {
     "name": "stdout",
     "output_type": "stream",
     "text": [
      "1\n",
      "1\n",
      "<class 'int'>\n",
      "<class 'int'>\n"
     ]
    }
   ],
   "source": [
    "# single assignment\n",
    "\n",
    "thing = 1\n",
    "\n",
    "# so thing is my variable name, and 1 is the value.  \n",
    "# thing is now associated with the value of 1\n",
    "# when I print out 1 and thing, they would appear the same\n",
    "# the object type is also going to be the same, \n",
    "# because the variable inherets what the contents are\n",
    "\n",
    "print(1)\n",
    "print(thing)\n",
    "\n",
    "print( type(1) )\n",
    "print( type(thing) )"
   ]
  },
  {
   "cell_type": "code",
   "execution_count": 24,
   "metadata": {
    "collapsed": false
   },
   "outputs": [
    {
     "name": "stdout",
     "output_type": "stream",
     "text": [
      "fizzy pop\n",
      "fizzy pop\n"
     ]
    }
   ],
   "source": [
    "# multiple assignment\n",
    "\n",
    "# You won't use this too often, but you'll see it when we start\n",
    "# working with more complex data structures\n",
    "# copy this code into PyCharm and play around with it a bit to explore\n",
    "\n",
    "x = 'fizzy'\n",
    "y = 'pop'\n",
    "\n",
    "a, b = x, y\n",
    "\n",
    "print(x, y)\n",
    "print(a, b)"
   ]
  },
  {
   "cell_type": "code",
   "execution_count": null,
   "metadata": {
    "collapsed": true
   },
   "outputs": [],
   "source": []
  },
  {
   "cell_type": "markdown",
   "metadata": {},
   "source": [
    "# Loops\n",
    "\n",
    "## The for loop\n",
    "\n",
    "For a known number of things. E.g. \"break all the eggs in that basket\"\n",
    "\n",
    "We'll talk more about this next week, these kind of work magically, which is something I suggest you just roll with for the first few weeks."
   ]
  },
  {
   "cell_type": "code",
   "execution_count": 26,
   "metadata": {
    "collapsed": false
   },
   "outputs": [
    {
     "name": "stdout",
     "output_type": "stream",
     "text": [
      "[0, 1, 2, 3, 4, 5, 6, 7, 8, 9]\n",
      "I'm going to do this 10 times\n",
      "I'm going to do this 10 times\n",
      "I'm going to do this 10 times\n",
      "I'm going to do this 10 times\n",
      "I'm going to do this 10 times\n",
      "I'm going to do this 10 times\n",
      "I'm going to do this 10 times\n",
      "I'm going to do this 10 times\n",
      "I'm going to do this 10 times\n",
      "I'm going to do this 10 times\n"
     ]
    }
   ],
   "source": [
    "# for and range\n",
    "\n",
    "print( list( range(10) ) )\n",
    "# prints 0-9, so 10 items\n",
    "\n",
    "# this is just a python pattern to make it do stuff\n",
    "# a particular number of times\n",
    "\n",
    "for item in range(10):\n",
    "    print(\"I'm going to do this 10 times\")"
   ]
  },
  {
   "cell_type": "code",
   "execution_count": 28,
   "metadata": {
    "collapsed": false
   },
   "outputs": [
    {
     "name": "stdout",
     "output_type": "stream",
     "text": [
      "I used fizzy for this one\n",
      "I used fizzy for this one\n",
      "I used fizzy for this one\n",
      "I used pop for this one\n",
      "I used pop for this one\n",
      "I used pop for this one\n",
      "2\n",
      "2\n"
     ]
    }
   ],
   "source": [
    "# iterable variables\n",
    "# again, something to dwell on in clasee\n",
    "# you can name your iterble variable anything\n",
    "# you still have to type it, but it can be anything\n",
    "\n",
    "for fizzy in range(3):\n",
    "    print(\"I used fizzy for this one\")\n",
    "\n",
    "for pop in range(3):\n",
    "    print(\"I used pop for this one\")\n",
    "\n",
    "# that variable comes to exist at the moment of first execution\n",
    "# within the loop, but it will continue to persist after\n",
    "# Thus...\n",
    "\n",
    "print(fizzy) # will print 2\n",
    "print(pop) # will print 2\n"
   ]
  },
  {
   "cell_type": "code",
   "execution_count": null,
   "metadata": {
    "collapsed": true
   },
   "outputs": [],
   "source": []
  },
  {
   "cell_type": "markdown",
   "metadata": {
    "collapsed": true
   },
   "source": [
    "# Some pycharm suggestions\n",
    "\n",
    "In PyCharm you've already made a 'project' (per the installation instructions).  That project can have folders and files.  My suggestion is to make one folder for each assignment (thus, each week of class) where you write your code, and make one .py file for each problem (when appropriate).\n",
    "\n",
    "You'll be making .py files, which contain your python code.  You'll see these files appear when you navigate to the folder you are working in.  First, find the path where your project is stored, then go into the folder you've been working in.\n",
    "\n",
    "For file naming, just be sure to include the name of the problem. E.g. wickes-pe5.py would be my submission for programming exercise 5.  When we download your assignment it'll just be a folder of what you've uploaded.  Making it easy for us to tell which file goes for which problem will make grading faster for everyone.\n",
    "\n",
    "Remeber, some questions will be discussion that you should write in your narrative and some coding problems are strung together so that it makes more sense to include them both in one .py file.  At time of submission (you'll see where to submit when you open the assignment link), you can upload your narrative file, the .py files, and any data files, screenshots, etc. that you'd like to include."
   ]
  },
  {
   "cell_type": "code",
   "execution_count": null,
   "metadata": {
    "collapsed": true
   },
   "outputs": [],
   "source": []
  },
  {
   "cell_type": "code",
   "execution_count": null,
   "metadata": {
    "collapsed": true
   },
   "outputs": [],
   "source": []
  },
  {
   "cell_type": "code",
   "execution_count": null,
   "metadata": {
    "collapsed": true
   },
   "outputs": [],
   "source": []
  }
 ],
 "metadata": {
  "anaconda-cloud": {},
  "kernelspec": {
   "display_name": "Python [conda root]",
   "language": "python",
   "name": "conda-root-py"
  },
  "language_info": {
   "codemirror_mode": {
    "name": "ipython",
    "version": 3
   },
   "file_extension": ".py",
   "mimetype": "text/x-python",
   "name": "python",
   "nbconvert_exporter": "python",
   "pygments_lexer": "ipython3",
   "version": "3.5.2"
  }
 },
 "nbformat": 4,
 "nbformat_minor": 1
}
