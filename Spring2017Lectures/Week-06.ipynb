{
 "cells": [
  {
   "cell_type": "markdown",
   "metadata": {
    "collapsed": true
   },
   "source": [
    "# Week 6: Functions"
   ]
  },
  {
   "cell_type": "markdown",
   "metadata": {},
   "source": [
    "Let's start with some vocabulary:\n",
    "\n",
    "* __define a function__:  this is where you define the name, parameters, and code for your functions.  You do this with your `def` block.  E.g. `def name():`\n",
    "* __call a function__:  this is when you actually call the function to execute, and you do this via `name()` somewhere in your code\n",
    "* __parameters/arguments__:  these are the values you want to give the function when you call it, you can have 0 parameters/arguments\n",
    "* __'passing' values__: this is how you give the function the parameters and get values back, passing means that the value is handed off in the system such that it can be saved and processed.  This is different from printing values, which just spits the value out to the console and you can capture and save that value.\n",
    "* __`return`__: this is how you pass a value out of a function\n"
   ]
  },
  {
   "cell_type": "markdown",
   "metadata": {},
   "source": [
    "Functions capture and host a select chunk of code that can be repeatedly called.  These are widely used to help keep the flow of longer programs clear, because you can modularize the processing elsewhere.  There are also modules with specialized functions that we import and use for specific tasks as we need them.  "
   ]
  },
  {
   "cell_type": "markdown",
   "metadata": {},
   "source": [
    "# The most minimal function function\n",
    "\n",
    "What's the most minimal sort of function that does something? "
   ]
  },
  {
   "cell_type": "code",
   "execution_count": 1,
   "metadata": {
    "collapsed": true
   },
   "outputs": [],
   "source": [
    "def justdosomething():\n",
    "    print(\"hello\")"
   ]
  },
  {
   "cell_type": "markdown",
   "metadata": {},
   "source": [
    "The function above will only print hello when called.  So let's call it and check it out!"
   ]
  },
  {
   "cell_type": "code",
   "execution_count": 2,
   "metadata": {
    "collapsed": false
   },
   "outputs": [
    {
     "name": "stdout",
     "output_type": "stream",
     "text": [
      "hello\n"
     ]
    }
   ],
   "source": [
    "justdosomething()"
   ]
  },
  {
   "cell_type": "markdown",
   "metadata": {},
   "source": [
    "As simple as that!  So let's play next with giving it a value."
   ]
  },
  {
   "cell_type": "code",
   "execution_count": 3,
   "metadata": {
    "collapsed": true
   },
   "outputs": [],
   "source": [
    "def saysomething(saythis):\n",
    "    print(saythis)"
   ]
  },
  {
   "cell_type": "markdown",
   "metadata": {},
   "source": [
    "So now this function will print out whatever we pass it.  Not that interesting, but we need to start from somewhere."
   ]
  },
  {
   "cell_type": "code",
   "execution_count": 4,
   "metadata": {
    "collapsed": false
   },
   "outputs": [
    {
     "name": "stdout",
     "output_type": "stream",
     "text": [
      "I've said a thing\n"
     ]
    }
   ],
   "source": [
    "saysomething(\"I've said a thing\")"
   ]
  },
  {
   "cell_type": "markdown",
   "metadata": {},
   "source": [
    "Let's do something a little more interesting."
   ]
  },
  {
   "cell_type": "code",
   "execution_count": 11,
   "metadata": {
    "collapsed": true
   },
   "outputs": [],
   "source": [
    "def saysomethinglouder(saythislouder):\n",
    "    text = saythislouder.upper()\n",
    "    print(text)"
   ]
  },
  {
   "cell_type": "code",
   "execution_count": 12,
   "metadata": {
    "collapsed": false
   },
   "outputs": [
    {
     "name": "stdout",
     "output_type": "stream",
     "text": [
      "I'M MOSTLY LOWER CASE, YO\n"
     ]
    }
   ],
   "source": [
    "saysomethinglouder(\"I'm mostly lower case, yo\")"
   ]
  },
  {
   "cell_type": "markdown",
   "metadata": {},
   "source": [
    "## What the crap is `return`?\n",
    "\n",
    "Return is completely different from print.  Print spits out the content to the console, but you can't access the content.  Only view it.\n",
    "\n",
    "Meanwhile, `return` will actually pass the value back to you to capture.  You'd then need to print it directly, should you want to."
   ]
  },
  {
   "cell_type": "code",
   "execution_count": 16,
   "metadata": {
    "collapsed": false
   },
   "outputs": [
    {
     "data": {
      "text/plain": [
       "\"THIS IS MY SENTENCE, BUT NOW IT'LL BE LOUDER\""
      ]
     },
     "execution_count": 16,
     "metadata": {},
     "output_type": "execute_result"
    }
   ],
   "source": [
    "def saysomethinglouder(saythislouder):\n",
    "    text = saythislouder.upper()\n",
    "    return text # we've changed this to return\n",
    "\n",
    "saysomethinglouder(\"this is my sentence, but now it'll be louder\")"
   ]
  },
  {
   "cell_type": "markdown",
   "metadata": {},
   "source": [
    "OK, so Jupyter automatically prints out return statements, so.... this isn't the clearest of issues.  But you can capture the value now!"
   ]
  },
  {
   "cell_type": "code",
   "execution_count": 17,
   "metadata": {
    "collapsed": false
   },
   "outputs": [
    {
     "name": "stdout",
     "output_type": "stream",
     "text": [
      "MY SENTENCES IS LOUDER NOW\n"
     ]
    }
   ],
   "source": [
    "louder = saysomethinglouder(\"my sentences is louder now\")\n",
    "\n",
    "print(louder)"
   ]
  },
  {
   "cell_type": "markdown",
   "metadata": {},
   "source": [
    "## Problem walkthrough\n",
    "\n",
    "Let's work on this problem. Write a function called `halfhalf` that takes a string, upper cases the first half of that string, and lower cases the last half of it string. Then returns the new string.  When the string is of odd length, let the lower case side have the extra letter."
   ]
  },
  {
   "cell_type": "markdown",
   "metadata": {},
   "source": [
    "### Step 1: Identify the inputs and outputs\n",
    "\n",
    "* What are the inputs?  A single string.\n",
    "* What are the outputs?  A single string.  \n",
    "\n",
    "We can solve this!!\n",
    "\n",
    "And some testing, so let's look at this:\n",
    "\n",
    "`halfhalf(\"fizzy pop\")`\n",
    "\n",
    "This has 9 letters, so `9 * .5` is 4.5.  Running that through `int()` will give you 4.  So we want to kind of split the string at this position.  Also keep in mind that the median position has an index starting at zero, which means that it's shifted +1 from what we want.  Now, this can actually come in handy because our exclusive stop value means that we already want it to be +1.\n",
    "\n",
    "If we have the median position, we can then say:\n",
    "\n",
    "* the left side is from the beginning to the median position\n",
    "* the right side is from just after the median position to the end\n",
    "\n",
    "Hmm, doesn't this look mightly similar to string slicing?\n",
    "\n",
    "So we can manually say that a string of length 9 can be split evenly(ish)between a string of 4 characters and a string of 5 characters.  That would mean:\n",
    "\n",
    "* `left` is `FIZZ`\n",
    "* `right` is `y pop`"
   ]
  },
  {
   "cell_type": "code",
   "execution_count": 27,
   "metadata": {
    "collapsed": true
   },
   "outputs": [],
   "source": [
    "# first let's just get input and output\n",
    "def halfhalf(thestring):\n",
    "    return thestring"
   ]
  },
  {
   "cell_type": "code",
   "execution_count": 28,
   "metadata": {
    "collapsed": false
   },
   "outputs": [
    {
     "name": "stdout",
     "output_type": "stream",
     "text": [
      "just a little bit louder now\n"
     ]
    }
   ],
   "source": [
    "print(halfhalf(\"just a little bit louder now\"))"
   ]
  },
  {
   "cell_type": "markdown",
   "metadata": {},
   "source": []
  },
  {
   "cell_type": "code",
   "execution_count": null,
   "metadata": {
    "collapsed": true
   },
   "outputs": [],
   "source": []
  },
  {
   "cell_type": "code",
   "execution_count": null,
   "metadata": {
    "collapsed": true
   },
   "outputs": [],
   "source": []
  },
  {
   "cell_type": "code",
   "execution_count": null,
   "metadata": {
    "collapsed": true
   },
   "outputs": [],
   "source": []
  },
  {
   "cell_type": "markdown",
   "metadata": {},
   "source": [
    "### Step 2:  how do we split the string in half?\n",
    "\n",
    "This is roughly like computing a median value, where 50% of the contents are below and 50% are above. Now, we can't have half of a letter, which is why the question says that it should give the right side the extra letter."
   ]
  },
  {
   "cell_type": "code",
   "execution_count": 29,
   "metadata": {
    "collapsed": true
   },
   "outputs": [],
   "source": [
    "def halfhalf(thestring):\n",
    "    # let's get the length of the string\n",
    "    length = len(thestring)\n",
    "    median = length * .5 # get the median of the length\n",
    "    halfway = int(median) # we need this to be an int for slicing\n",
    "    # let's stop right here and check out the position that we're getting\n",
    "    print(halfway)\n",
    "    return thestring"
   ]
  },
  {
   "cell_type": "code",
   "execution_count": 30,
   "metadata": {
    "collapsed": false
   },
   "outputs": [
    {
     "name": "stdout",
     "output_type": "stream",
     "text": [
      "4\n"
     ]
    },
    {
     "data": {
      "text/plain": [
       "'fizzy pop'"
      ]
     },
     "execution_count": 30,
     "metadata": {},
     "output_type": "execute_result"
    }
   ],
   "source": [
    "halfhalf(\"fizzy pop\")"
   ]
  },
  {
   "cell_type": "markdown",
   "metadata": {},
   "source": [
    "Position 4 of `\"fizzy pop\"` is `\"y`\".  Remember that our string slicing will go up to but not including that position.  So yes, we do want all the letters to the left of the `\"y\"`.  Meanwhile, for the right hand side, we want all the characters starting from `\"y\"` and going to the end.  Let's just try playing with this outside of our function."
   ]
  },
  {
   "cell_type": "code",
   "execution_count": 32,
   "metadata": {
    "collapsed": false
   },
   "outputs": [
    {
     "name": "stdout",
     "output_type": "stream",
     "text": [
      "y\n",
      "fizz\n",
      "y pop\n",
      "fizzy pop\n"
     ]
    }
   ],
   "source": [
    "phrase = \"fizzy pop\"\n",
    "median = int(len(phrase) * .5)\n",
    "print(phrase[median])\n",
    "print(phrase[:median])\n",
    "print(phrase[median:])\n",
    "# we can confirm that we're getting the entire string with this:\n",
    "\n",
    "print(phrase[:median] + phrase[median:])"
   ]
  },
  {
   "cell_type": "markdown",
   "metadata": {},
   "source": [
    "### Step 4: incorporate what we know into the function\n",
    "\n",
    "We have our left being string[:median] and right being string[median:].  Once we have that, we can put it together with `.upper()` and `.lower()`."
   ]
  },
  {
   "cell_type": "code",
   "execution_count": 1,
   "metadata": {
    "collapsed": true
   },
   "outputs": [],
   "source": [
    "def halfhalf(mystring):\n",
    "    length = len(mystring)\n",
    "    halfsize = int(length * .5)\n",
    "    left = mystring[:halfsize].upper()\n",
    "    right = mystring[halfsize:].lower()\n",
    "    print(left + right)"
   ]
  },
  {
   "cell_type": "code",
   "execution_count": 2,
   "metadata": {
    "collapsed": false
   },
   "outputs": [
    {
     "name": "stdout",
     "output_type": "stream",
     "text": [
      "KITTEH JUST GETTINg destroyed by pats\n"
     ]
    }
   ],
   "source": [
    "halfhalf(\"KitteH JusT GeTTing DesTroyEd By paTS\")"
   ]
  },
  {
   "cell_type": "code",
   "execution_count": 3,
   "metadata": {
    "collapsed": false
   },
   "outputs": [
    {
     "name": "stdout",
     "output_type": "stream",
     "text": [
      "FIZZy pop\n"
     ]
    }
   ],
   "source": [
    "halfhalf(\"fizzy pop\")"
   ]
  },
  {
   "cell_type": "markdown",
   "metadata": {
    "collapsed": true
   },
   "source": [
    "We can also explore the application of this function to the guts of a file.  We want to apply this function to each line within a file, let's go with the Chicka Chicka Boom Boom text."
   ]
  },
  {
   "cell_type": "code",
   "execution_count": 5,
   "metadata": {
    "collapsed": false
   },
   "outputs": [
    {
     "name": "stdout",
     "output_type": "stream",
     "text": [
      "A TOLD B, AND B TOLD C, \"I'LL MEET you at the top of the coconut tree.\"\n",
      "None\n",
      "\"WHEEE!\" SAID D TO E F G, \"I'LL BEAT you to the top of the coconut tree.\"\n",
      "None\n",
      "CHICKA CHICKA BOOM BOOM! WILL THERE BE ENOugh room? here comes h up the coconut tree,\n",
      "None\n",
      "AND I AND J AND TAG-ALONG K, ALL on their way up the coconut tree.\n",
      "None\n",
      "CHICKA CHICKA BOOM BOOM! WILL THERE BE Enough room? look who's coming! l m n o p!\n",
      "None\n",
      "AND Q R S! AND T U V! STill more - w! and x y z!\n",
      "None\n",
      "THE WHOLE ALPHABET UP THE - OH, no! chicka chicka... boom! boom!\n",
      "None\n",
      "SKIT SKAT SKOODLE DOOT. FLIP FLOP FLEE. everybody running to the coconut tree.\n",
      "None\n",
      "MAMAS AND PAPAS AND UNCLES AND AUNTS HUG their little dears, then dust their pants.\n",
      "None\n",
      "\"HELP US UP,\" cried a b c.\n",
      "None\n",
      "NEXT FROM THE PILEUP SKINNED-KNEE D AND STUBBED-TOE e and patched-up f. then comes g all out of breath.\n",
      "None\n",
      "H IS TANGLED UP WITH I. J AND K ARE About to cry. l is knotted like a tie.\n",
      "None\n",
      "M IS LOOPED. N IS STOPPED. O IS TWISTED ALLEY-oop. skit skat skoodle doot. flip flop flee.\n",
      "None\n",
      "LOOK WHO'S COMING! IT'S BLACK-EYED P, Q R S, ANd loose-tooth t. then u v w wiggle-jiggle free.\n",
      "None\n",
      "LAST TO COME X Y Z. AND THE SUN goes down on the coconut tree...\n",
      "None\n",
      "BUT - CHICKA CHICKA BOOM BOOm! look, there's a full moon.\n",
      "None\n",
      "A IS OUT OF BED, AND THIS IS WHAT HE SAId, \"dare double dare, you can't catch me.\n",
      "None\n",
      "CHICKA CHICKA BOOM! BOOM!chicka chicka boom! boom!\n",
      "None\n",
      "I'LL BEAT YOU TO THE TOp of the coconut tree.\"\n",
      "None\n",
      "CHICKA CHICKa boom! boom!\n",
      "None\n"
     ]
    }
   ],
   "source": [
    "file_in = open('boomboom.txt', 'r')\n",
    "\n",
    "for line in file_in:\n",
    "    cleaned_line = line.strip()\n",
    "    halfsies = halfhalf(cleaned_line)\n",
    "    print(halfsies)"
   ]
  },
  {
   "cell_type": "markdown",
   "metadata": {},
   "source": [
    "Oh no! What's the None coming from?  Well, we're not returning anything from our function. So the function itself is printing out the results, but we're capturing the output and printing that out.  Which is where the None is coming from.  Remember that a function returns `None` when you don't explicitly return anything.\n",
    "\n",
    "Let's change that function to return the string and try it again."
   ]
  },
  {
   "cell_type": "code",
   "execution_count": 6,
   "metadata": {
    "collapsed": true
   },
   "outputs": [],
   "source": [
    "def halfhalf(mystring):\n",
    "    length = len(mystring)\n",
    "    halfsize = int(length * .5)\n",
    "    left = mystring[:halfsize].upper()\n",
    "    right = mystring[halfsize:].lower()\n",
    "    result = left + right\n",
    "    return result"
   ]
  },
  {
   "cell_type": "code",
   "execution_count": 7,
   "metadata": {
    "collapsed": false
   },
   "outputs": [
    {
     "data": {
      "text/plain": [
       "'THAT POOOOOR little kitteh'"
      ]
     },
     "execution_count": 7,
     "metadata": {},
     "output_type": "execute_result"
    }
   ],
   "source": [
    "# now when we call the function it won't print out \n",
    "\n",
    "halfhalf(\"That POOOOOR little KitTeh\")"
   ]
  },
  {
   "cell_type": "markdown",
   "metadata": {},
   "source": [
    "OK, well, darn it, remember that Jupyter automatically prints returns when you don't do anything.  Try it in a script and it won't work. Anyhow, back up to applying this new version of the function to our file."
   ]
  },
  {
   "cell_type": "code",
   "execution_count": 8,
   "metadata": {
    "collapsed": false
   },
   "outputs": [
    {
     "name": "stdout",
     "output_type": "stream",
     "text": [
      "A TOLD B, AND B TOLD C, \"I'LL MEET you at the top of the coconut tree.\"\n",
      "\"WHEEE!\" SAID D TO E F G, \"I'LL BEAT you to the top of the coconut tree.\"\n",
      "CHICKA CHICKA BOOM BOOM! WILL THERE BE ENOugh room? here comes h up the coconut tree,\n",
      "AND I AND J AND TAG-ALONG K, ALL on their way up the coconut tree.\n",
      "CHICKA CHICKA BOOM BOOM! WILL THERE BE Enough room? look who's coming! l m n o p!\n",
      "AND Q R S! AND T U V! STill more - w! and x y z!\n",
      "THE WHOLE ALPHABET UP THE - OH, no! chicka chicka... boom! boom!\n",
      "SKIT SKAT SKOODLE DOOT. FLIP FLOP FLEE. everybody running to the coconut tree.\n",
      "MAMAS AND PAPAS AND UNCLES AND AUNTS HUG their little dears, then dust their pants.\n",
      "\"HELP US UP,\" cried a b c.\n",
      "NEXT FROM THE PILEUP SKINNED-KNEE D AND STUBBED-TOE e and patched-up f. then comes g all out of breath.\n",
      "H IS TANGLED UP WITH I. J AND K ARE About to cry. l is knotted like a tie.\n",
      "M IS LOOPED. N IS STOPPED. O IS TWISTED ALLEY-oop. skit skat skoodle doot. flip flop flee.\n",
      "LOOK WHO'S COMING! IT'S BLACK-EYED P, Q R S, ANd loose-tooth t. then u v w wiggle-jiggle free.\n",
      "LAST TO COME X Y Z. AND THE SUN goes down on the coconut tree...\n",
      "BUT - CHICKA CHICKA BOOM BOOm! look, there's a full moon.\n",
      "A IS OUT OF BED, AND THIS IS WHAT HE SAId, \"dare double dare, you can't catch me.\n",
      "CHICKA CHICKA BOOM! BOOM!chicka chicka boom! boom!\n",
      "I'LL BEAT YOU TO THE TOp of the coconut tree.\"\n",
      "CHICKA CHICKa boom! boom!\n"
     ]
    }
   ],
   "source": [
    "# I haven't changed any of the code from above\n",
    "\n",
    "file_in = open('boomboom.txt', 'r')\n",
    "\n",
    "for line in file_in:\n",
    "    cleaned_line = line.strip()\n",
    "    halfsies = halfhalf(cleaned_line)\n",
    "    print(halfsies)"
   ]
  },
  {
   "cell_type": "code",
   "execution_count": null,
   "metadata": {
    "collapsed": true
   },
   "outputs": [],
   "source": []
  },
  {
   "cell_type": "code",
   "execution_count": null,
   "metadata": {
    "collapsed": true
   },
   "outputs": [],
   "source": []
  }
 ],
 "metadata": {
  "anaconda-cloud": {},
  "kernelspec": {
   "display_name": "Python [default]",
   "language": "python",
   "name": "python3"
  },
  "language_info": {
   "codemirror_mode": {
    "name": "ipython",
    "version": 3
   },
   "file_extension": ".py",
   "mimetype": "text/x-python",
   "name": "python",
   "nbconvert_exporter": "python",
   "pygments_lexer": "ipython3",
   "version": "3.5.2"
  }
 },
 "nbformat": 4,
 "nbformat_minor": 1
}
